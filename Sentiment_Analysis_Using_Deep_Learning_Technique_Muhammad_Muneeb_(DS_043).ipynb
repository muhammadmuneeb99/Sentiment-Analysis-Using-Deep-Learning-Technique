{
  "nbformat": 4,
  "nbformat_minor": 0,
  "metadata": {
    "colab": {
      "provenance": []
    },
    "kernelspec": {
      "name": "python3",
      "display_name": "Python 3"
    },
    "language_info": {
      "name": "python"
    }
  },
  "cells": [
    {
      "cell_type": "markdown",
      "source": [
        "\n",
        "\n",
        "```\n",
        "***# Importing Libraries***\n",
        "```\n",
        "\n"
      ],
      "metadata": {
        "id": "xrRMMKzVrJll"
      }
    },
    {
      "cell_type": "code",
      "execution_count": 11,
      "metadata": {
        "id": "mgdks3NnrILj"
      },
      "outputs": [],
      "source": [
        "import re\n",
        "from nltk.tokenize.treebank import TreebankWordDetokenizer\n",
        "import gensim\n",
        "from sklearn.model_selection import train_test_split\n",
        "import warnings\n",
        "warnings.filterwarnings('ignore')\n",
        "import matplotlib.pyplot as plt\n",
        "import tensorflow as tf\n",
        "import keras\n",
        "import numpy as np\n",
        "import pandas as pd"
      ]
    },
    {
      "cell_type": "code",
      "source": [
        "print('Importing Done')"
      ],
      "metadata": {
        "colab": {
          "base_uri": "https://localhost:8080/"
        },
        "id": "EbYR8YMGrUz_",
        "outputId": "9fe86c5f-e001-4821-94f9-80b7069df288"
      },
      "execution_count": 12,
      "outputs": [
        {
          "output_type": "stream",
          "name": "stdout",
          "text": [
            "Importing Done\n"
          ]
        }
      ]
    },
    {
      "cell_type": "markdown",
      "source": [
        "*Importing* *Dataset* ***from google drive ***"
      ],
      "metadata": {
        "id": "3R1Lv7UtsKCZ"
      }
    },
    {
      "cell_type": "code",
      "source": [
        "from google.colab import drive\n",
        "drive.mount('/content/drive')\n",
        "train = pd.read_csv('/content/drive/MyDrive/Sentiment Analysis - DL/train.csv')"
      ],
      "metadata": {
        "colab": {
          "base_uri": "https://localhost:8080/"
        },
        "id": "QsciELOSrcsI",
        "outputId": "ab5fc45b-5fae-4c6c-defc-63863f44abcb"
      },
      "execution_count": 13,
      "outputs": [
        {
          "output_type": "stream",
          "name": "stdout",
          "text": [
            "Drive already mounted at /content/drive; to attempt to forcibly remount, call drive.mount(\"/content/drive\", force_remount=True).\n"
          ]
        }
      ]
    },
    {
      "cell_type": "markdown",
      "source": [
        "*** Starting EDA***"
      ],
      "metadata": {
        "id": "sKIFen1UvbVl"
      }
    },
    {
      "cell_type": "code",
      "source": [
        "## Data exploration ##\n",
        "desired_width = 320\n",
        "pd.set_option('display.width', desired_width)\n",
        "pd.set_option('display.max_columns', 10)\n",
        "train.head(15)"
      ],
      "metadata": {
        "colab": {
          "base_uri": "https://localhost:8080/",
          "height": 520
        },
        "id": "pnTCPOVcsv8Q",
        "outputId": "71a03bca-98ba-4662-a38d-4ce6390af4fa"
      },
      "execution_count": 14,
      "outputs": [
        {
          "output_type": "execute_result",
          "data": {
            "text/plain": [
              "        textID                                               text                                      selected_text sentiment\n",
              "0   cb774db0d1                I`d have responded, if I were going                I`d have responded, if I were going   neutral\n",
              "1   549e992a42      Sooo SAD I will miss you here in San Diego!!!                                           Sooo SAD  negative\n",
              "2   088c60f138                          my boss is bullying me...                                        bullying me  negative\n",
              "3   9642c003ef                     what interview! leave me alone                                     leave me alone  negative\n",
              "4   358bd9e861   Sons of ****, why couldn`t they put them on t...                                      Sons of ****,  negative\n",
              "5   28b57f3990  http://www.dothebouncy.com/smf - some shameles...  http://www.dothebouncy.com/smf - some shameles...   neutral\n",
              "6   6e0c6d75b1  2am feedings for the baby are fun when he is a...                                                fun  positive\n",
              "7   50e14c0bb8                                         Soooo high                                         Soooo high   neutral\n",
              "8   e050245fbd                                        Both of you                                        Both of you   neutral\n",
              "9   fc2cbefa9d   Journey!? Wow... u just became cooler.  hehe....                       Wow... u just became cooler.  positive\n",
              "10  2339a9b08b   as much as i love to be hopeful, i reckon the...  as much as i love to be hopeful, i reckon the ...   neutral\n",
              "11  16fab9f95b  I really really like the song Love Story by Ta...                                               like  positive\n",
              "12  74a76f6e0a       My Sharpie is running DANGERously low on ink                                        DANGERously  negative\n",
              "13  04dd1d2e34  i want to go to music tonight but i lost my vo...                                               lost  negative\n",
              "14  bbe3cbf620                         test test from the LG enV2                         test test from the LG enV2   neutral"
            ],
            "text/html": [
              "\n",
              "  <div id=\"df-cecde109-3320-4370-8743-86a87438d7fd\" class=\"colab-df-container\">\n",
              "    <div>\n",
              "<style scoped>\n",
              "    .dataframe tbody tr th:only-of-type {\n",
              "        vertical-align: middle;\n",
              "    }\n",
              "\n",
              "    .dataframe tbody tr th {\n",
              "        vertical-align: top;\n",
              "    }\n",
              "\n",
              "    .dataframe thead th {\n",
              "        text-align: right;\n",
              "    }\n",
              "</style>\n",
              "<table border=\"1\" class=\"dataframe\">\n",
              "  <thead>\n",
              "    <tr style=\"text-align: right;\">\n",
              "      <th></th>\n",
              "      <th>textID</th>\n",
              "      <th>text</th>\n",
              "      <th>selected_text</th>\n",
              "      <th>sentiment</th>\n",
              "    </tr>\n",
              "  </thead>\n",
              "  <tbody>\n",
              "    <tr>\n",
              "      <th>0</th>\n",
              "      <td>cb774db0d1</td>\n",
              "      <td>I`d have responded, if I were going</td>\n",
              "      <td>I`d have responded, if I were going</td>\n",
              "      <td>neutral</td>\n",
              "    </tr>\n",
              "    <tr>\n",
              "      <th>1</th>\n",
              "      <td>549e992a42</td>\n",
              "      <td>Sooo SAD I will miss you here in San Diego!!!</td>\n",
              "      <td>Sooo SAD</td>\n",
              "      <td>negative</td>\n",
              "    </tr>\n",
              "    <tr>\n",
              "      <th>2</th>\n",
              "      <td>088c60f138</td>\n",
              "      <td>my boss is bullying me...</td>\n",
              "      <td>bullying me</td>\n",
              "      <td>negative</td>\n",
              "    </tr>\n",
              "    <tr>\n",
              "      <th>3</th>\n",
              "      <td>9642c003ef</td>\n",
              "      <td>what interview! leave me alone</td>\n",
              "      <td>leave me alone</td>\n",
              "      <td>negative</td>\n",
              "    </tr>\n",
              "    <tr>\n",
              "      <th>4</th>\n",
              "      <td>358bd9e861</td>\n",
              "      <td>Sons of ****, why couldn`t they put them on t...</td>\n",
              "      <td>Sons of ****,</td>\n",
              "      <td>negative</td>\n",
              "    </tr>\n",
              "    <tr>\n",
              "      <th>5</th>\n",
              "      <td>28b57f3990</td>\n",
              "      <td>http://www.dothebouncy.com/smf - some shameles...</td>\n",
              "      <td>http://www.dothebouncy.com/smf - some shameles...</td>\n",
              "      <td>neutral</td>\n",
              "    </tr>\n",
              "    <tr>\n",
              "      <th>6</th>\n",
              "      <td>6e0c6d75b1</td>\n",
              "      <td>2am feedings for the baby are fun when he is a...</td>\n",
              "      <td>fun</td>\n",
              "      <td>positive</td>\n",
              "    </tr>\n",
              "    <tr>\n",
              "      <th>7</th>\n",
              "      <td>50e14c0bb8</td>\n",
              "      <td>Soooo high</td>\n",
              "      <td>Soooo high</td>\n",
              "      <td>neutral</td>\n",
              "    </tr>\n",
              "    <tr>\n",
              "      <th>8</th>\n",
              "      <td>e050245fbd</td>\n",
              "      <td>Both of you</td>\n",
              "      <td>Both of you</td>\n",
              "      <td>neutral</td>\n",
              "    </tr>\n",
              "    <tr>\n",
              "      <th>9</th>\n",
              "      <td>fc2cbefa9d</td>\n",
              "      <td>Journey!? Wow... u just became cooler.  hehe....</td>\n",
              "      <td>Wow... u just became cooler.</td>\n",
              "      <td>positive</td>\n",
              "    </tr>\n",
              "    <tr>\n",
              "      <th>10</th>\n",
              "      <td>2339a9b08b</td>\n",
              "      <td>as much as i love to be hopeful, i reckon the...</td>\n",
              "      <td>as much as i love to be hopeful, i reckon the ...</td>\n",
              "      <td>neutral</td>\n",
              "    </tr>\n",
              "    <tr>\n",
              "      <th>11</th>\n",
              "      <td>16fab9f95b</td>\n",
              "      <td>I really really like the song Love Story by Ta...</td>\n",
              "      <td>like</td>\n",
              "      <td>positive</td>\n",
              "    </tr>\n",
              "    <tr>\n",
              "      <th>12</th>\n",
              "      <td>74a76f6e0a</td>\n",
              "      <td>My Sharpie is running DANGERously low on ink</td>\n",
              "      <td>DANGERously</td>\n",
              "      <td>negative</td>\n",
              "    </tr>\n",
              "    <tr>\n",
              "      <th>13</th>\n",
              "      <td>04dd1d2e34</td>\n",
              "      <td>i want to go to music tonight but i lost my vo...</td>\n",
              "      <td>lost</td>\n",
              "      <td>negative</td>\n",
              "    </tr>\n",
              "    <tr>\n",
              "      <th>14</th>\n",
              "      <td>bbe3cbf620</td>\n",
              "      <td>test test from the LG enV2</td>\n",
              "      <td>test test from the LG enV2</td>\n",
              "      <td>neutral</td>\n",
              "    </tr>\n",
              "  </tbody>\n",
              "</table>\n",
              "</div>\n",
              "    <div class=\"colab-df-buttons\">\n",
              "\n",
              "  <div class=\"colab-df-container\">\n",
              "    <button class=\"colab-df-convert\" onclick=\"convertToInteractive('df-cecde109-3320-4370-8743-86a87438d7fd')\"\n",
              "            title=\"Convert this dataframe to an interactive table.\"\n",
              "            style=\"display:none;\">\n",
              "\n",
              "  <svg xmlns=\"http://www.w3.org/2000/svg\" height=\"24px\" viewBox=\"0 -960 960 960\">\n",
              "    <path d=\"M120-120v-720h720v720H120Zm60-500h600v-160H180v160Zm220 220h160v-160H400v160Zm0 220h160v-160H400v160ZM180-400h160v-160H180v160Zm440 0h160v-160H620v160ZM180-180h160v-160H180v160Zm440 0h160v-160H620v160Z\"/>\n",
              "  </svg>\n",
              "    </button>\n",
              "\n",
              "  <style>\n",
              "    .colab-df-container {\n",
              "      display:flex;\n",
              "      gap: 12px;\n",
              "    }\n",
              "\n",
              "    .colab-df-convert {\n",
              "      background-color: #E8F0FE;\n",
              "      border: none;\n",
              "      border-radius: 50%;\n",
              "      cursor: pointer;\n",
              "      display: none;\n",
              "      fill: #1967D2;\n",
              "      height: 32px;\n",
              "      padding: 0 0 0 0;\n",
              "      width: 32px;\n",
              "    }\n",
              "\n",
              "    .colab-df-convert:hover {\n",
              "      background-color: #E2EBFA;\n",
              "      box-shadow: 0px 1px 2px rgba(60, 64, 67, 0.3), 0px 1px 3px 1px rgba(60, 64, 67, 0.15);\n",
              "      fill: #174EA6;\n",
              "    }\n",
              "\n",
              "    .colab-df-buttons div {\n",
              "      margin-bottom: 4px;\n",
              "    }\n",
              "\n",
              "    [theme=dark] .colab-df-convert {\n",
              "      background-color: #3B4455;\n",
              "      fill: #D2E3FC;\n",
              "    }\n",
              "\n",
              "    [theme=dark] .colab-df-convert:hover {\n",
              "      background-color: #434B5C;\n",
              "      box-shadow: 0px 1px 3px 1px rgba(0, 0, 0, 0.15);\n",
              "      filter: drop-shadow(0px 1px 2px rgba(0, 0, 0, 0.3));\n",
              "      fill: #FFFFFF;\n",
              "    }\n",
              "  </style>\n",
              "\n",
              "    <script>\n",
              "      const buttonEl =\n",
              "        document.querySelector('#df-cecde109-3320-4370-8743-86a87438d7fd button.colab-df-convert');\n",
              "      buttonEl.style.display =\n",
              "        google.colab.kernel.accessAllowed ? 'block' : 'none';\n",
              "\n",
              "      async function convertToInteractive(key) {\n",
              "        const element = document.querySelector('#df-cecde109-3320-4370-8743-86a87438d7fd');\n",
              "        const dataTable =\n",
              "          await google.colab.kernel.invokeFunction('convertToInteractive',\n",
              "                                                    [key], {});\n",
              "        if (!dataTable) return;\n",
              "\n",
              "        const docLinkHtml = 'Like what you see? Visit the ' +\n",
              "          '<a target=\"_blank\" href=https://colab.research.google.com/notebooks/data_table.ipynb>data table notebook</a>'\n",
              "          + ' to learn more about interactive tables.';\n",
              "        element.innerHTML = '';\n",
              "        dataTable['output_type'] = 'display_data';\n",
              "        await google.colab.output.renderOutput(dataTable, element);\n",
              "        const docLink = document.createElement('div');\n",
              "        docLink.innerHTML = docLinkHtml;\n",
              "        element.appendChild(docLink);\n",
              "      }\n",
              "    </script>\n",
              "  </div>\n",
              "\n",
              "\n",
              "<div id=\"df-40f3265b-403d-46bf-9a7a-819d4b915389\">\n",
              "  <button class=\"colab-df-quickchart\" onclick=\"quickchart('df-40f3265b-403d-46bf-9a7a-819d4b915389')\"\n",
              "            title=\"Suggest charts\"\n",
              "            style=\"display:none;\">\n",
              "\n",
              "<svg xmlns=\"http://www.w3.org/2000/svg\" height=\"24px\"viewBox=\"0 0 24 24\"\n",
              "     width=\"24px\">\n",
              "    <g>\n",
              "        <path d=\"M19 3H5c-1.1 0-2 .9-2 2v14c0 1.1.9 2 2 2h14c1.1 0 2-.9 2-2V5c0-1.1-.9-2-2-2zM9 17H7v-7h2v7zm4 0h-2V7h2v10zm4 0h-2v-4h2v4z\"/>\n",
              "    </g>\n",
              "</svg>\n",
              "  </button>\n",
              "\n",
              "<style>\n",
              "  .colab-df-quickchart {\n",
              "      --bg-color: #E8F0FE;\n",
              "      --fill-color: #1967D2;\n",
              "      --hover-bg-color: #E2EBFA;\n",
              "      --hover-fill-color: #174EA6;\n",
              "      --disabled-fill-color: #AAA;\n",
              "      --disabled-bg-color: #DDD;\n",
              "  }\n",
              "\n",
              "  [theme=dark] .colab-df-quickchart {\n",
              "      --bg-color: #3B4455;\n",
              "      --fill-color: #D2E3FC;\n",
              "      --hover-bg-color: #434B5C;\n",
              "      --hover-fill-color: #FFFFFF;\n",
              "      --disabled-bg-color: #3B4455;\n",
              "      --disabled-fill-color: #666;\n",
              "  }\n",
              "\n",
              "  .colab-df-quickchart {\n",
              "    background-color: var(--bg-color);\n",
              "    border: none;\n",
              "    border-radius: 50%;\n",
              "    cursor: pointer;\n",
              "    display: none;\n",
              "    fill: var(--fill-color);\n",
              "    height: 32px;\n",
              "    padding: 0;\n",
              "    width: 32px;\n",
              "  }\n",
              "\n",
              "  .colab-df-quickchart:hover {\n",
              "    background-color: var(--hover-bg-color);\n",
              "    box-shadow: 0 1px 2px rgba(60, 64, 67, 0.3), 0 1px 3px 1px rgba(60, 64, 67, 0.15);\n",
              "    fill: var(--button-hover-fill-color);\n",
              "  }\n",
              "\n",
              "  .colab-df-quickchart-complete:disabled,\n",
              "  .colab-df-quickchart-complete:disabled:hover {\n",
              "    background-color: var(--disabled-bg-color);\n",
              "    fill: var(--disabled-fill-color);\n",
              "    box-shadow: none;\n",
              "  }\n",
              "\n",
              "  .colab-df-spinner {\n",
              "    border: 2px solid var(--fill-color);\n",
              "    border-color: transparent;\n",
              "    border-bottom-color: var(--fill-color);\n",
              "    animation:\n",
              "      spin 1s steps(1) infinite;\n",
              "  }\n",
              "\n",
              "  @keyframes spin {\n",
              "    0% {\n",
              "      border-color: transparent;\n",
              "      border-bottom-color: var(--fill-color);\n",
              "      border-left-color: var(--fill-color);\n",
              "    }\n",
              "    20% {\n",
              "      border-color: transparent;\n",
              "      border-left-color: var(--fill-color);\n",
              "      border-top-color: var(--fill-color);\n",
              "    }\n",
              "    30% {\n",
              "      border-color: transparent;\n",
              "      border-left-color: var(--fill-color);\n",
              "      border-top-color: var(--fill-color);\n",
              "      border-right-color: var(--fill-color);\n",
              "    }\n",
              "    40% {\n",
              "      border-color: transparent;\n",
              "      border-right-color: var(--fill-color);\n",
              "      border-top-color: var(--fill-color);\n",
              "    }\n",
              "    60% {\n",
              "      border-color: transparent;\n",
              "      border-right-color: var(--fill-color);\n",
              "    }\n",
              "    80% {\n",
              "      border-color: transparent;\n",
              "      border-right-color: var(--fill-color);\n",
              "      border-bottom-color: var(--fill-color);\n",
              "    }\n",
              "    90% {\n",
              "      border-color: transparent;\n",
              "      border-bottom-color: var(--fill-color);\n",
              "    }\n",
              "  }\n",
              "</style>\n",
              "\n",
              "  <script>\n",
              "    async function quickchart(key) {\n",
              "      const quickchartButtonEl =\n",
              "        document.querySelector('#' + key + ' button');\n",
              "      quickchartButtonEl.disabled = true;  // To prevent multiple clicks.\n",
              "      quickchartButtonEl.classList.add('colab-df-spinner');\n",
              "      try {\n",
              "        const charts = await google.colab.kernel.invokeFunction(\n",
              "            'suggestCharts', [key], {});\n",
              "      } catch (error) {\n",
              "        console.error('Error during call to suggestCharts:', error);\n",
              "      }\n",
              "      quickchartButtonEl.classList.remove('colab-df-spinner');\n",
              "      quickchartButtonEl.classList.add('colab-df-quickchart-complete');\n",
              "    }\n",
              "    (() => {\n",
              "      let quickchartButtonEl =\n",
              "        document.querySelector('#df-40f3265b-403d-46bf-9a7a-819d4b915389 button');\n",
              "      quickchartButtonEl.style.display =\n",
              "        google.colab.kernel.accessAllowed ? 'block' : 'none';\n",
              "    })();\n",
              "  </script>\n",
              "</div>\n",
              "\n",
              "    </div>\n",
              "  </div>\n"
            ]
          },
          "metadata": {},
          "execution_count": 14
        }
      ]
    },
    {
      "cell_type": "code",
      "source": [
        "## Dataset Length ##\n",
        "len(train)"
      ],
      "metadata": {
        "colab": {
          "base_uri": "https://localhost:8080/"
        },
        "id": "WeQmRN0hvmbB",
        "outputId": "36349d25-b749-4e9f-cbfe-f7d54d10b62e"
      },
      "execution_count": 15,
      "outputs": [
        {
          "output_type": "execute_result",
          "data": {
            "text/plain": [
              "27481"
            ]
          },
          "metadata": {},
          "execution_count": 15
        }
      ]
    },
    {
      "cell_type": "code",
      "source": [
        "## finding other different value than neutral, negative and positive?\n",
        "train['sentiment'].unique()"
      ],
      "metadata": {
        "colab": {
          "base_uri": "https://localhost:8080/"
        },
        "id": "h_ExcFIHvsH3",
        "outputId": "c3c88560-9ad0-4f2f-df14-3ea1b1c045a5"
      },
      "execution_count": 16,
      "outputs": [
        {
          "output_type": "execute_result",
          "data": {
            "text/plain": [
              "array(['neutral', 'negative', 'positive'], dtype=object)"
            ]
          },
          "metadata": {},
          "execution_count": 16
        }
      ]
    },
    {
      "cell_type": "code",
      "source": [
        "## Checking How's distributed the dataset? Is it biased?\n",
        "train.groupby('sentiment').nunique()"
      ],
      "metadata": {
        "colab": {
          "base_uri": "https://localhost:8080/",
          "height": 175
        },
        "id": "p7l3iC2yvvdc",
        "outputId": "68e24e1c-f183-4adc-e56e-c7bb277c163b"
      },
      "execution_count": 19,
      "outputs": [
        {
          "output_type": "execute_result",
          "data": {
            "text/plain": [
              "           textID   text  selected_text\n",
              "sentiment                              \n",
              "negative     7781   7781           5861\n",
              "neutral     11118  11117          11111\n",
              "positive     8582   8582           5537"
            ],
            "text/html": [
              "\n",
              "  <div id=\"df-5fc68502-eb9c-4a21-ab81-511ed8e0a1dc\" class=\"colab-df-container\">\n",
              "    <div>\n",
              "<style scoped>\n",
              "    .dataframe tbody tr th:only-of-type {\n",
              "        vertical-align: middle;\n",
              "    }\n",
              "\n",
              "    .dataframe tbody tr th {\n",
              "        vertical-align: top;\n",
              "    }\n",
              "\n",
              "    .dataframe thead th {\n",
              "        text-align: right;\n",
              "    }\n",
              "</style>\n",
              "<table border=\"1\" class=\"dataframe\">\n",
              "  <thead>\n",
              "    <tr style=\"text-align: right;\">\n",
              "      <th></th>\n",
              "      <th>textID</th>\n",
              "      <th>text</th>\n",
              "      <th>selected_text</th>\n",
              "    </tr>\n",
              "    <tr>\n",
              "      <th>sentiment</th>\n",
              "      <th></th>\n",
              "      <th></th>\n",
              "      <th></th>\n",
              "    </tr>\n",
              "  </thead>\n",
              "  <tbody>\n",
              "    <tr>\n",
              "      <th>negative</th>\n",
              "      <td>7781</td>\n",
              "      <td>7781</td>\n",
              "      <td>5861</td>\n",
              "    </tr>\n",
              "    <tr>\n",
              "      <th>neutral</th>\n",
              "      <td>11118</td>\n",
              "      <td>11117</td>\n",
              "      <td>11111</td>\n",
              "    </tr>\n",
              "    <tr>\n",
              "      <th>positive</th>\n",
              "      <td>8582</td>\n",
              "      <td>8582</td>\n",
              "      <td>5537</td>\n",
              "    </tr>\n",
              "  </tbody>\n",
              "</table>\n",
              "</div>\n",
              "    <div class=\"colab-df-buttons\">\n",
              "\n",
              "  <div class=\"colab-df-container\">\n",
              "    <button class=\"colab-df-convert\" onclick=\"convertToInteractive('df-5fc68502-eb9c-4a21-ab81-511ed8e0a1dc')\"\n",
              "            title=\"Convert this dataframe to an interactive table.\"\n",
              "            style=\"display:none;\">\n",
              "\n",
              "  <svg xmlns=\"http://www.w3.org/2000/svg\" height=\"24px\" viewBox=\"0 -960 960 960\">\n",
              "    <path d=\"M120-120v-720h720v720H120Zm60-500h600v-160H180v160Zm220 220h160v-160H400v160Zm0 220h160v-160H400v160ZM180-400h160v-160H180v160Zm440 0h160v-160H620v160ZM180-180h160v-160H180v160Zm440 0h160v-160H620v160Z\"/>\n",
              "  </svg>\n",
              "    </button>\n",
              "\n",
              "  <style>\n",
              "    .colab-df-container {\n",
              "      display:flex;\n",
              "      gap: 12px;\n",
              "    }\n",
              "\n",
              "    .colab-df-convert {\n",
              "      background-color: #E8F0FE;\n",
              "      border: none;\n",
              "      border-radius: 50%;\n",
              "      cursor: pointer;\n",
              "      display: none;\n",
              "      fill: #1967D2;\n",
              "      height: 32px;\n",
              "      padding: 0 0 0 0;\n",
              "      width: 32px;\n",
              "    }\n",
              "\n",
              "    .colab-df-convert:hover {\n",
              "      background-color: #E2EBFA;\n",
              "      box-shadow: 0px 1px 2px rgba(60, 64, 67, 0.3), 0px 1px 3px 1px rgba(60, 64, 67, 0.15);\n",
              "      fill: #174EA6;\n",
              "    }\n",
              "\n",
              "    .colab-df-buttons div {\n",
              "      margin-bottom: 4px;\n",
              "    }\n",
              "\n",
              "    [theme=dark] .colab-df-convert {\n",
              "      background-color: #3B4455;\n",
              "      fill: #D2E3FC;\n",
              "    }\n",
              "\n",
              "    [theme=dark] .colab-df-convert:hover {\n",
              "      background-color: #434B5C;\n",
              "      box-shadow: 0px 1px 3px 1px rgba(0, 0, 0, 0.15);\n",
              "      filter: drop-shadow(0px 1px 2px rgba(0, 0, 0, 0.3));\n",
              "      fill: #FFFFFF;\n",
              "    }\n",
              "  </style>\n",
              "\n",
              "    <script>\n",
              "      const buttonEl =\n",
              "        document.querySelector('#df-5fc68502-eb9c-4a21-ab81-511ed8e0a1dc button.colab-df-convert');\n",
              "      buttonEl.style.display =\n",
              "        google.colab.kernel.accessAllowed ? 'block' : 'none';\n",
              "\n",
              "      async function convertToInteractive(key) {\n",
              "        const element = document.querySelector('#df-5fc68502-eb9c-4a21-ab81-511ed8e0a1dc');\n",
              "        const dataTable =\n",
              "          await google.colab.kernel.invokeFunction('convertToInteractive',\n",
              "                                                    [key], {});\n",
              "        if (!dataTable) return;\n",
              "\n",
              "        const docLinkHtml = 'Like what you see? Visit the ' +\n",
              "          '<a target=\"_blank\" href=https://colab.research.google.com/notebooks/data_table.ipynb>data table notebook</a>'\n",
              "          + ' to learn more about interactive tables.';\n",
              "        element.innerHTML = '';\n",
              "        dataTable['output_type'] = 'display_data';\n",
              "        await google.colab.output.renderOutput(dataTable, element);\n",
              "        const docLink = document.createElement('div');\n",
              "        docLink.innerHTML = docLinkHtml;\n",
              "        element.appendChild(docLink);\n",
              "      }\n",
              "    </script>\n",
              "  </div>\n",
              "\n",
              "\n",
              "<div id=\"df-0396c45d-1fcc-4c58-812f-b943a64e20cb\">\n",
              "  <button class=\"colab-df-quickchart\" onclick=\"quickchart('df-0396c45d-1fcc-4c58-812f-b943a64e20cb')\"\n",
              "            title=\"Suggest charts\"\n",
              "            style=\"display:none;\">\n",
              "\n",
              "<svg xmlns=\"http://www.w3.org/2000/svg\" height=\"24px\"viewBox=\"0 0 24 24\"\n",
              "     width=\"24px\">\n",
              "    <g>\n",
              "        <path d=\"M19 3H5c-1.1 0-2 .9-2 2v14c0 1.1.9 2 2 2h14c1.1 0 2-.9 2-2V5c0-1.1-.9-2-2-2zM9 17H7v-7h2v7zm4 0h-2V7h2v10zm4 0h-2v-4h2v4z\"/>\n",
              "    </g>\n",
              "</svg>\n",
              "  </button>\n",
              "\n",
              "<style>\n",
              "  .colab-df-quickchart {\n",
              "      --bg-color: #E8F0FE;\n",
              "      --fill-color: #1967D2;\n",
              "      --hover-bg-color: #E2EBFA;\n",
              "      --hover-fill-color: #174EA6;\n",
              "      --disabled-fill-color: #AAA;\n",
              "      --disabled-bg-color: #DDD;\n",
              "  }\n",
              "\n",
              "  [theme=dark] .colab-df-quickchart {\n",
              "      --bg-color: #3B4455;\n",
              "      --fill-color: #D2E3FC;\n",
              "      --hover-bg-color: #434B5C;\n",
              "      --hover-fill-color: #FFFFFF;\n",
              "      --disabled-bg-color: #3B4455;\n",
              "      --disabled-fill-color: #666;\n",
              "  }\n",
              "\n",
              "  .colab-df-quickchart {\n",
              "    background-color: var(--bg-color);\n",
              "    border: none;\n",
              "    border-radius: 50%;\n",
              "    cursor: pointer;\n",
              "    display: none;\n",
              "    fill: var(--fill-color);\n",
              "    height: 32px;\n",
              "    padding: 0;\n",
              "    width: 32px;\n",
              "  }\n",
              "\n",
              "  .colab-df-quickchart:hover {\n",
              "    background-color: var(--hover-bg-color);\n",
              "    box-shadow: 0 1px 2px rgba(60, 64, 67, 0.3), 0 1px 3px 1px rgba(60, 64, 67, 0.15);\n",
              "    fill: var(--button-hover-fill-color);\n",
              "  }\n",
              "\n",
              "  .colab-df-quickchart-complete:disabled,\n",
              "  .colab-df-quickchart-complete:disabled:hover {\n",
              "    background-color: var(--disabled-bg-color);\n",
              "    fill: var(--disabled-fill-color);\n",
              "    box-shadow: none;\n",
              "  }\n",
              "\n",
              "  .colab-df-spinner {\n",
              "    border: 2px solid var(--fill-color);\n",
              "    border-color: transparent;\n",
              "    border-bottom-color: var(--fill-color);\n",
              "    animation:\n",
              "      spin 1s steps(1) infinite;\n",
              "  }\n",
              "\n",
              "  @keyframes spin {\n",
              "    0% {\n",
              "      border-color: transparent;\n",
              "      border-bottom-color: var(--fill-color);\n",
              "      border-left-color: var(--fill-color);\n",
              "    }\n",
              "    20% {\n",
              "      border-color: transparent;\n",
              "      border-left-color: var(--fill-color);\n",
              "      border-top-color: var(--fill-color);\n",
              "    }\n",
              "    30% {\n",
              "      border-color: transparent;\n",
              "      border-left-color: var(--fill-color);\n",
              "      border-top-color: var(--fill-color);\n",
              "      border-right-color: var(--fill-color);\n",
              "    }\n",
              "    40% {\n",
              "      border-color: transparent;\n",
              "      border-right-color: var(--fill-color);\n",
              "      border-top-color: var(--fill-color);\n",
              "    }\n",
              "    60% {\n",
              "      border-color: transparent;\n",
              "      border-right-color: var(--fill-color);\n",
              "    }\n",
              "    80% {\n",
              "      border-color: transparent;\n",
              "      border-right-color: var(--fill-color);\n",
              "      border-bottom-color: var(--fill-color);\n",
              "    }\n",
              "    90% {\n",
              "      border-color: transparent;\n",
              "      border-bottom-color: var(--fill-color);\n",
              "    }\n",
              "  }\n",
              "</style>\n",
              "\n",
              "  <script>\n",
              "    async function quickchart(key) {\n",
              "      const quickchartButtonEl =\n",
              "        document.querySelector('#' + key + ' button');\n",
              "      quickchartButtonEl.disabled = true;  // To prevent multiple clicks.\n",
              "      quickchartButtonEl.classList.add('colab-df-spinner');\n",
              "      try {\n",
              "        const charts = await google.colab.kernel.invokeFunction(\n",
              "            'suggestCharts', [key], {});\n",
              "      } catch (error) {\n",
              "        console.error('Error during call to suggestCharts:', error);\n",
              "      }\n",
              "      quickchartButtonEl.classList.remove('colab-df-spinner');\n",
              "      quickchartButtonEl.classList.add('colab-df-quickchart-complete');\n",
              "    }\n",
              "    (() => {\n",
              "      let quickchartButtonEl =\n",
              "        document.querySelector('#df-0396c45d-1fcc-4c58-812f-b943a64e20cb button');\n",
              "      quickchartButtonEl.style.display =\n",
              "        google.colab.kernel.accessAllowed ? 'block' : 'none';\n",
              "    })();\n",
              "  </script>\n",
              "</div>\n",
              "\n",
              "    </div>\n",
              "  </div>\n"
            ]
          },
          "metadata": {},
          "execution_count": 19
        }
      ]
    },
    {
      "cell_type": "code",
      "source": [
        "## describe the dataset\n",
        "train.describe()"
      ],
      "metadata": {
        "colab": {
          "base_uri": "https://localhost:8080/",
          "height": 175
        },
        "id": "S6e643JCv0CX",
        "outputId": "e3402ddd-cf82-422b-e2b7-93d014cbec99"
      },
      "execution_count": 20,
      "outputs": [
        {
          "output_type": "execute_result",
          "data": {
            "text/plain": [
              "            textID                                  text selected_text sentiment\n",
              "count        27481                                 27480         27480     27481\n",
              "unique       27481                                 27480         22463         3\n",
              "top     cb774db0d1   I`d have responded, if I were going          good   neutral\n",
              "freq             1                                     1           199     11118"
            ],
            "text/html": [
              "\n",
              "  <div id=\"df-516b3f10-aa83-4121-af57-8bebcd9d2604\" class=\"colab-df-container\">\n",
              "    <div>\n",
              "<style scoped>\n",
              "    .dataframe tbody tr th:only-of-type {\n",
              "        vertical-align: middle;\n",
              "    }\n",
              "\n",
              "    .dataframe tbody tr th {\n",
              "        vertical-align: top;\n",
              "    }\n",
              "\n",
              "    .dataframe thead th {\n",
              "        text-align: right;\n",
              "    }\n",
              "</style>\n",
              "<table border=\"1\" class=\"dataframe\">\n",
              "  <thead>\n",
              "    <tr style=\"text-align: right;\">\n",
              "      <th></th>\n",
              "      <th>textID</th>\n",
              "      <th>text</th>\n",
              "      <th>selected_text</th>\n",
              "      <th>sentiment</th>\n",
              "    </tr>\n",
              "  </thead>\n",
              "  <tbody>\n",
              "    <tr>\n",
              "      <th>count</th>\n",
              "      <td>27481</td>\n",
              "      <td>27480</td>\n",
              "      <td>27480</td>\n",
              "      <td>27481</td>\n",
              "    </tr>\n",
              "    <tr>\n",
              "      <th>unique</th>\n",
              "      <td>27481</td>\n",
              "      <td>27480</td>\n",
              "      <td>22463</td>\n",
              "      <td>3</td>\n",
              "    </tr>\n",
              "    <tr>\n",
              "      <th>top</th>\n",
              "      <td>cb774db0d1</td>\n",
              "      <td>I`d have responded, if I were going</td>\n",
              "      <td>good</td>\n",
              "      <td>neutral</td>\n",
              "    </tr>\n",
              "    <tr>\n",
              "      <th>freq</th>\n",
              "      <td>1</td>\n",
              "      <td>1</td>\n",
              "      <td>199</td>\n",
              "      <td>11118</td>\n",
              "    </tr>\n",
              "  </tbody>\n",
              "</table>\n",
              "</div>\n",
              "    <div class=\"colab-df-buttons\">\n",
              "\n",
              "  <div class=\"colab-df-container\">\n",
              "    <button class=\"colab-df-convert\" onclick=\"convertToInteractive('df-516b3f10-aa83-4121-af57-8bebcd9d2604')\"\n",
              "            title=\"Convert this dataframe to an interactive table.\"\n",
              "            style=\"display:none;\">\n",
              "\n",
              "  <svg xmlns=\"http://www.w3.org/2000/svg\" height=\"24px\" viewBox=\"0 -960 960 960\">\n",
              "    <path d=\"M120-120v-720h720v720H120Zm60-500h600v-160H180v160Zm220 220h160v-160H400v160Zm0 220h160v-160H400v160ZM180-400h160v-160H180v160Zm440 0h160v-160H620v160ZM180-180h160v-160H180v160Zm440 0h160v-160H620v160Z\"/>\n",
              "  </svg>\n",
              "    </button>\n",
              "\n",
              "  <style>\n",
              "    .colab-df-container {\n",
              "      display:flex;\n",
              "      gap: 12px;\n",
              "    }\n",
              "\n",
              "    .colab-df-convert {\n",
              "      background-color: #E8F0FE;\n",
              "      border: none;\n",
              "      border-radius: 50%;\n",
              "      cursor: pointer;\n",
              "      display: none;\n",
              "      fill: #1967D2;\n",
              "      height: 32px;\n",
              "      padding: 0 0 0 0;\n",
              "      width: 32px;\n",
              "    }\n",
              "\n",
              "    .colab-df-convert:hover {\n",
              "      background-color: #E2EBFA;\n",
              "      box-shadow: 0px 1px 2px rgba(60, 64, 67, 0.3), 0px 1px 3px 1px rgba(60, 64, 67, 0.15);\n",
              "      fill: #174EA6;\n",
              "    }\n",
              "\n",
              "    .colab-df-buttons div {\n",
              "      margin-bottom: 4px;\n",
              "    }\n",
              "\n",
              "    [theme=dark] .colab-df-convert {\n",
              "      background-color: #3B4455;\n",
              "      fill: #D2E3FC;\n",
              "    }\n",
              "\n",
              "    [theme=dark] .colab-df-convert:hover {\n",
              "      background-color: #434B5C;\n",
              "      box-shadow: 0px 1px 3px 1px rgba(0, 0, 0, 0.15);\n",
              "      filter: drop-shadow(0px 1px 2px rgba(0, 0, 0, 0.3));\n",
              "      fill: #FFFFFF;\n",
              "    }\n",
              "  </style>\n",
              "\n",
              "    <script>\n",
              "      const buttonEl =\n",
              "        document.querySelector('#df-516b3f10-aa83-4121-af57-8bebcd9d2604 button.colab-df-convert');\n",
              "      buttonEl.style.display =\n",
              "        google.colab.kernel.accessAllowed ? 'block' : 'none';\n",
              "\n",
              "      async function convertToInteractive(key) {\n",
              "        const element = document.querySelector('#df-516b3f10-aa83-4121-af57-8bebcd9d2604');\n",
              "        const dataTable =\n",
              "          await google.colab.kernel.invokeFunction('convertToInteractive',\n",
              "                                                    [key], {});\n",
              "        if (!dataTable) return;\n",
              "\n",
              "        const docLinkHtml = 'Like what you see? Visit the ' +\n",
              "          '<a target=\"_blank\" href=https://colab.research.google.com/notebooks/data_table.ipynb>data table notebook</a>'\n",
              "          + ' to learn more about interactive tables.';\n",
              "        element.innerHTML = '';\n",
              "        dataTable['output_type'] = 'display_data';\n",
              "        await google.colab.output.renderOutput(dataTable, element);\n",
              "        const docLink = document.createElement('div');\n",
              "        docLink.innerHTML = docLinkHtml;\n",
              "        element.appendChild(docLink);\n",
              "      }\n",
              "    </script>\n",
              "  </div>\n",
              "\n",
              "\n",
              "<div id=\"df-72ea4936-909d-4d43-bb9b-2183e1adbd9f\">\n",
              "  <button class=\"colab-df-quickchart\" onclick=\"quickchart('df-72ea4936-909d-4d43-bb9b-2183e1adbd9f')\"\n",
              "            title=\"Suggest charts\"\n",
              "            style=\"display:none;\">\n",
              "\n",
              "<svg xmlns=\"http://www.w3.org/2000/svg\" height=\"24px\"viewBox=\"0 0 24 24\"\n",
              "     width=\"24px\">\n",
              "    <g>\n",
              "        <path d=\"M19 3H5c-1.1 0-2 .9-2 2v14c0 1.1.9 2 2 2h14c1.1 0 2-.9 2-2V5c0-1.1-.9-2-2-2zM9 17H7v-7h2v7zm4 0h-2V7h2v10zm4 0h-2v-4h2v4z\"/>\n",
              "    </g>\n",
              "</svg>\n",
              "  </button>\n",
              "\n",
              "<style>\n",
              "  .colab-df-quickchart {\n",
              "      --bg-color: #E8F0FE;\n",
              "      --fill-color: #1967D2;\n",
              "      --hover-bg-color: #E2EBFA;\n",
              "      --hover-fill-color: #174EA6;\n",
              "      --disabled-fill-color: #AAA;\n",
              "      --disabled-bg-color: #DDD;\n",
              "  }\n",
              "\n",
              "  [theme=dark] .colab-df-quickchart {\n",
              "      --bg-color: #3B4455;\n",
              "      --fill-color: #D2E3FC;\n",
              "      --hover-bg-color: #434B5C;\n",
              "      --hover-fill-color: #FFFFFF;\n",
              "      --disabled-bg-color: #3B4455;\n",
              "      --disabled-fill-color: #666;\n",
              "  }\n",
              "\n",
              "  .colab-df-quickchart {\n",
              "    background-color: var(--bg-color);\n",
              "    border: none;\n",
              "    border-radius: 50%;\n",
              "    cursor: pointer;\n",
              "    display: none;\n",
              "    fill: var(--fill-color);\n",
              "    height: 32px;\n",
              "    padding: 0;\n",
              "    width: 32px;\n",
              "  }\n",
              "\n",
              "  .colab-df-quickchart:hover {\n",
              "    background-color: var(--hover-bg-color);\n",
              "    box-shadow: 0 1px 2px rgba(60, 64, 67, 0.3), 0 1px 3px 1px rgba(60, 64, 67, 0.15);\n",
              "    fill: var(--button-hover-fill-color);\n",
              "  }\n",
              "\n",
              "  .colab-df-quickchart-complete:disabled,\n",
              "  .colab-df-quickchart-complete:disabled:hover {\n",
              "    background-color: var(--disabled-bg-color);\n",
              "    fill: var(--disabled-fill-color);\n",
              "    box-shadow: none;\n",
              "  }\n",
              "\n",
              "  .colab-df-spinner {\n",
              "    border: 2px solid var(--fill-color);\n",
              "    border-color: transparent;\n",
              "    border-bottom-color: var(--fill-color);\n",
              "    animation:\n",
              "      spin 1s steps(1) infinite;\n",
              "  }\n",
              "\n",
              "  @keyframes spin {\n",
              "    0% {\n",
              "      border-color: transparent;\n",
              "      border-bottom-color: var(--fill-color);\n",
              "      border-left-color: var(--fill-color);\n",
              "    }\n",
              "    20% {\n",
              "      border-color: transparent;\n",
              "      border-left-color: var(--fill-color);\n",
              "      border-top-color: var(--fill-color);\n",
              "    }\n",
              "    30% {\n",
              "      border-color: transparent;\n",
              "      border-left-color: var(--fill-color);\n",
              "      border-top-color: var(--fill-color);\n",
              "      border-right-color: var(--fill-color);\n",
              "    }\n",
              "    40% {\n",
              "      border-color: transparent;\n",
              "      border-right-color: var(--fill-color);\n",
              "      border-top-color: var(--fill-color);\n",
              "    }\n",
              "    60% {\n",
              "      border-color: transparent;\n",
              "      border-right-color: var(--fill-color);\n",
              "    }\n",
              "    80% {\n",
              "      border-color: transparent;\n",
              "      border-right-color: var(--fill-color);\n",
              "      border-bottom-color: var(--fill-color);\n",
              "    }\n",
              "    90% {\n",
              "      border-color: transparent;\n",
              "      border-bottom-color: var(--fill-color);\n",
              "    }\n",
              "  }\n",
              "</style>\n",
              "\n",
              "  <script>\n",
              "    async function quickchart(key) {\n",
              "      const quickchartButtonEl =\n",
              "        document.querySelector('#' + key + ' button');\n",
              "      quickchartButtonEl.disabled = true;  // To prevent multiple clicks.\n",
              "      quickchartButtonEl.classList.add('colab-df-spinner');\n",
              "      try {\n",
              "        const charts = await google.colab.kernel.invokeFunction(\n",
              "            'suggestCharts', [key], {});\n",
              "      } catch (error) {\n",
              "        console.error('Error during call to suggestCharts:', error);\n",
              "      }\n",
              "      quickchartButtonEl.classList.remove('colab-df-spinner');\n",
              "      quickchartButtonEl.classList.add('colab-df-quickchart-complete');\n",
              "    }\n",
              "    (() => {\n",
              "      let quickchartButtonEl =\n",
              "        document.querySelector('#df-72ea4936-909d-4d43-bb9b-2183e1adbd9f button');\n",
              "      quickchartButtonEl.style.display =\n",
              "        google.colab.kernel.accessAllowed ? 'block' : 'none';\n",
              "    })();\n",
              "  </script>\n",
              "</div>\n",
              "\n",
              "    </div>\n",
              "  </div>\n"
            ]
          },
          "metadata": {},
          "execution_count": 20
        }
      ]
    },
    {
      "source": [
        "temp = train.groupby('sentiment').count()['text'].reset_index().sort_values(by='text',ascending=False)\n",
        "temp.style.background_gradient(cmap='Purples')"
      ],
      "cell_type": "code",
      "metadata": {
        "colab": {
          "base_uri": "https://localhost:8080/",
          "height": 143
        },
        "id": "UV2wdtRqw1kO",
        "outputId": "fefc5b53-53e3-4a77-d02b-973ccc1891c3"
      },
      "execution_count": 21,
      "outputs": [
        {
          "output_type": "execute_result",
          "data": {
            "text/plain": [
              "<pandas.io.formats.style.Styler at 0x7d6ccbc1e200>"
            ],
            "text/html": [
              "<style type=\"text/css\">\n",
              "#T_070eb_row0_col1 {\n",
              "  background-color: #3f007d;\n",
              "  color: #f1f1f1;\n",
              "}\n",
              "#T_070eb_row1_col1 {\n",
              "  background-color: #dcdcec;\n",
              "  color: #000000;\n",
              "}\n",
              "#T_070eb_row2_col1 {\n",
              "  background-color: #fcfbfd;\n",
              "  color: #000000;\n",
              "}\n",
              "</style>\n",
              "<table id=\"T_070eb\" class=\"dataframe\">\n",
              "  <thead>\n",
              "    <tr>\n",
              "      <th class=\"blank level0\" >&nbsp;</th>\n",
              "      <th id=\"T_070eb_level0_col0\" class=\"col_heading level0 col0\" >sentiment</th>\n",
              "      <th id=\"T_070eb_level0_col1\" class=\"col_heading level0 col1\" >text</th>\n",
              "    </tr>\n",
              "  </thead>\n",
              "  <tbody>\n",
              "    <tr>\n",
              "      <th id=\"T_070eb_level0_row0\" class=\"row_heading level0 row0\" >1</th>\n",
              "      <td id=\"T_070eb_row0_col0\" class=\"data row0 col0\" >neutral</td>\n",
              "      <td id=\"T_070eb_row0_col1\" class=\"data row0 col1\" >11117</td>\n",
              "    </tr>\n",
              "    <tr>\n",
              "      <th id=\"T_070eb_level0_row1\" class=\"row_heading level0 row1\" >2</th>\n",
              "      <td id=\"T_070eb_row1_col0\" class=\"data row1 col0\" >positive</td>\n",
              "      <td id=\"T_070eb_row1_col1\" class=\"data row1 col1\" >8582</td>\n",
              "    </tr>\n",
              "    <tr>\n",
              "      <th id=\"T_070eb_level0_row2\" class=\"row_heading level0 row2\" >0</th>\n",
              "      <td id=\"T_070eb_row2_col0\" class=\"data row2 col0\" >negative</td>\n",
              "      <td id=\"T_070eb_row2_col1\" class=\"data row2 col1\" >7781</td>\n",
              "    </tr>\n",
              "  </tbody>\n",
              "</table>\n"
            ]
          },
          "metadata": {},
          "execution_count": 21
        }
      ]
    },
    {
      "cell_type": "code",
      "source": [
        "plt.figure(figsize=(12,6))\n",
        "sns.countplot(x='sentiment',data=train)"
      ],
      "metadata": {
        "colab": {
          "base_uri": "https://localhost:8080/",
          "height": 559
        },
        "id": "js-9UV46wi3i",
        "outputId": "013f2655-f92c-4629-e583-6ba16d77b1ba"
      },
      "execution_count": 22,
      "outputs": [
        {
          "output_type": "execute_result",
          "data": {
            "text/plain": [
              "<Axes: xlabel='sentiment', ylabel='count'>"
            ]
          },
          "metadata": {},
          "execution_count": 22
        },
        {
          "output_type": "display_data",
          "data": {
            "text/plain": [
              "<Figure size 1200x600 with 1 Axes>"
            ],
            "image/png": "[encoded data removed]"
          },
          "metadata": {}
        }
      ]
    },
    {
      "cell_type": "code",
      "source": [
        "from plotly import graph_objs as go\n",
        "fig = go.Figure(go.Funnelarea(\n",
        "    text =temp.sentiment,\n",
        "    values = temp.text,\n",
        "    title = {\"position\": \"top center\", \"text\": \"Funnel-Chart of Sentiment Distribution\"}\n",
        "    ))\n",
        "fig.show()"
      ],
      "metadata": {
        "colab": {
          "base_uri": "https://localhost:8080/",
          "height": 542
        },
        "id": "Nj1q2j98xo3J",
        "outputId": "69fa21f0-94fe-4f53-ea7b-f7da56b8e99c"
      },
      "execution_count": 24,
      "outputs": [
        {
          "output_type": "display_data",
          "data": {
            "text/html": [
              "<html>\n",
              "<head><meta charset=\"utf-8\" /></head>\n",
              "<body>\n",
              "    <div>            <script src=\"https://cdnjs.cloudflare.com/ajax/libs/mathjax/2.7.5/MathJax.js?config=TeX-AMS-MML_SVG\"></script><script type=\"text/javascript\">if (window.MathJax && window.MathJax.Hub && window.MathJax.Hub.Config) {window.MathJax.Hub.Config({SVG: {font: \"STIX-Web\"}});}</script>                <script type=\"text/javascript\">window.PlotlyConfig = {MathJaxConfig: 'local'};</script>\n",
              "        <script charset=\"utf-8\" src=\"https://cdn.plot.ly/plotly-2.24.1.min.js\"></script>                <div id=\"72013c8d-f194-4c8d-9700-62368b7951df\" class=\"plotly-graph-div\" style=\"height:525px; width:100%;\"></div>            <script type=\"text/javascript\">                                    window.PLOTLYENV=window.PLOTLYENV || {};                                    if (document.getElementById(\"72013c8d-f194-4c8d-9700-62368b7951df\")) {                    Plotly.newPlot(                        \"72013c8d-f194-4c8d-9700-62368b7951df\",                        [{\"text\":[\"neutral\",\"positive\",\"negative\"],\"title\":{\"position\":\"top center\",\"text\":\"Funnel-Chart of Sentiment Distribution\"},\"values\":[11117,8582,7781],\"type\":\"funnelarea\"}],                        {\"template\":{\"data\":{\"histogram2dcontour\":[{\"type\":\"histogram2dcontour\",\"colorbar\":{\"outlinewidth\":0,\"ticks\":\"\"},\"colorscale\":[[0.0,\"#0d0887\"],[0.1111111111111111,\"#46039f\"],[0.2222222222222222,\"#7201a8\"],[0.3333333333333333,\"#9c179e\"],[0.4444444444444444,\"#bd3786\"],[0.5555555555555556,\"#d8576b\"],[0.6666666666666666,\"#ed7953\"],[0.7777777777777778,\"#fb9f3a\"],[0.8888888888888888,\"#fdca26\"],[1.0,\"#f0f921\"]]}],\"choropleth\":[{\"type\":\"choropleth\",\"colorbar\":{\"outlinewidth\":0,\"ticks\":\"\"}}],\"histogram2d\":[{\"type\":\"histogram2d\",\"colorbar\":{\"outlinewidth\":0,\"ticks\":\"\"},\"colorscale\":[[0.0,\"#0d0887\"],[0.1111111111111111,\"#46039f\"],[0.2222222222222222,\"#7201a8\"],[0.3333333333333333,\"#9c179e\"],[0.4444444444444444,\"#bd3786\"],[0.5555555555555556,\"#d8576b\"],[0.6666666666666666,\"#ed7953\"],[0.7777777777777778,\"#fb9f3a\"],[0.8888888888888888,\"#fdca26\"],[1.0,\"#f0f921\"]]}],\"heatmap\":[{\"type\":\"heatmap\",\"colorbar\":{\"outlinewidth\":0,\"ticks\":\"\"},\"colorscale\":[[0.0,\"#0d0887\"],[0.1111111111111111,\"#46039f\"],[0.2222222222222222,\"#7201a8\"],[0.3333333333333333,\"#9c179e\"],[0.4444444444444444,\"#bd3786\"],[0.5555555555555556,\"#d8576b\"],[0.6666666666666666,\"#ed7953\"],[0.7777777777777778,\"#fb9f3a\"],[0.8888888888888888,\"#fdca26\"],[1.0,\"#f0f921\"]]}],\"heatmapgl\":[{\"type\":\"heatmapgl\",\"colorbar\":{\"outlinewidth\":0,\"ticks\":\"\"},\"colorscale\":[[0.0,\"#0d0887\"],[0.1111111111111111,\"#46039f\"],[0.2222222222222222,\"#7201a8\"],[0.3333333333333333,\"#9c179e\"],[0.4444444444444444,\"#bd3786\"],[0.5555555555555556,\"#d8576b\"],[0.6666666666666666,\"#ed7953\"],[0.7777777777777778,\"#fb9f3a\"],[0.8888888888888888,\"#fdca26\"],[1.0,\"#f0f921\"]]}],\"contourcarpet\":[{\"type\":\"contourcarpet\",\"colorbar\":{\"outlinewidth\":0,\"ticks\":\"\"}}],\"contour\":[{\"type\":\"contour\",\"colorbar\":{\"outlinewidth\":0,\"ticks\":\"\"},\"colorscale\":[[0.0,\"#0d0887\"],[0.1111111111111111,\"#46039f\"],[0.2222222222222222,\"#7201a8\"],[0.3333333333333333,\"#9c179e\"],[0.4444444444444444,\"#bd3786\"],[0.5555555555555556,\"#d8576b\"],[0.6666666666666666,\"#ed7953\"],[0.7777777777777778,\"#fb9f3a\"],[0.8888888888888888,\"#fdca26\"],[1.0,\"#f0f921\"]]}],\"surface\":[{\"type\":\"surface\",\"colorbar\":{\"outlinewidth\":0,\"ticks\":\"\"},\"colorscale\":[[0.0,\"#0d0887\"],[0.1111111111111111,\"#46039f\"],[0.2222222222222222,\"#7201a8\"],[0.3333333333333333,\"#9c179e\"],[0.4444444444444444,\"#bd3786\"],[0.5555555555555556,\"#d8576b\"],[0.6666666666666666,\"#ed7953\"],[0.7777777777777778,\"#fb9f3a\"],[0.8888888888888888,\"#fdca26\"],[1.0,\"#f0f921\"]]}],\"mesh3d\":[{\"type\":\"mesh3d\",\"colorbar\":{\"outlinewidth\":0,\"ticks\":\"\"}}],\"scatter\":[{\"fillpattern\":{\"fillmode\":\"overlay\",\"size\":10,\"solidity\":0.2},\"type\":\"scatter\"}],\"parcoords\":[{\"type\":\"parcoords\",\"line\":{\"colorbar\":{\"outlinewidth\":0,\"ticks\":\"\"}}}],\"scatterpolargl\":[{\"type\":\"scatterpolargl\",\"marker\":{\"colorbar\":{\"outlinewidth\":0,\"ticks\":\"\"}}}],\"bar\":[{\"error_x\":{\"color\":\"#2a3f5f\"},\"error_y\":{\"color\":\"#2a3f5f\"},\"marker\":{\"line\":{\"color\":\"#E5ECF6\",\"width\":0.5},\"pattern\":{\"fillmode\":\"overlay\",\"size\":10,\"solidity\":0.2}},\"type\":\"bar\"}],\"scattergeo\":[{\"type\":\"scattergeo\",\"marker\":{\"colorbar\":{\"outlinewidth\":0,\"ticks\":\"\"}}}],\"scatterpolar\":[{\"type\":\"scatterpolar\",\"marker\":{\"colorbar\":{\"outlinewidth\":0,\"ticks\":\"\"}}}],\"histogram\":[{\"marker\":{\"pattern\":{\"fillmode\":\"overlay\",\"size\":10,\"solidity\":0.2}},\"type\":\"histogram\"}],\"scattergl\":[{\"type\":\"scattergl\",\"marker\":{\"colorbar\":{\"outlinewidth\":0,\"ticks\":\"\"}}}],\"scatter3d\":[{\"type\":\"scatter3d\",\"line\":{\"colorbar\":{\"outlinewidth\":0,\"ticks\":\"\"}},\"marker\":{\"colorbar\":{\"outlinewidth\":0,\"ticks\":\"\"}}}],\"scattermapbox\":[{\"type\":\"scattermapbox\",\"marker\":{\"colorbar\":{\"outlinewidth\":0,\"ticks\":\"\"}}}],\"scatterternary\":[{\"type\":\"scatterternary\",\"marker\":{\"colorbar\":{\"outlinewidth\":0,\"ticks\":\"\"}}}],\"scattercarpet\":[{\"type\":\"scattercarpet\",\"marker\":{\"colorbar\":{\"outlinewidth\":0,\"ticks\":\"\"}}}],\"carpet\":[{\"aaxis\":{\"endlinecolor\":\"#2a3f5f\",\"gridcolor\":\"white\",\"linecolor\":\"white\",\"minorgridcolor\":\"white\",\"startlinecolor\":\"#2a3f5f\"},\"baxis\":{\"endlinecolor\":\"#2a3f5f\",\"gridcolor\":\"white\",\"linecolor\":\"white\",\"minorgridcolor\":\"white\",\"startlinecolor\":\"#2a3f5f\"},\"type\":\"carpet\"}],\"table\":[{\"cells\":{\"fill\":{\"color\":\"#EBF0F8\"},\"line\":{\"color\":\"white\"}},\"header\":{\"fill\":{\"color\":\"#C8D4E3\"},\"line\":{\"color\":\"white\"}},\"type\":\"table\"}],\"barpolar\":[{\"marker\":{\"line\":{\"color\":\"#E5ECF6\",\"width\":0.5},\"pattern\":{\"fillmode\":\"overlay\",\"size\":10,\"solidity\":0.2}},\"type\":\"barpolar\"}],\"pie\":[{\"automargin\":true,\"type\":\"pie\"}]},\"layout\":{\"autotypenumbers\":\"strict\",\"colorway\":[\"#636efa\",\"#EF553B\",\"#00cc96\",\"#ab63fa\",\"#FFA15A\",\"#19d3f3\",\"#FF6692\",\"#B6E880\",\"#FF97FF\",\"#FECB52\"],\"font\":{\"color\":\"#2a3f5f\"},\"hovermode\":\"closest\",\"hoverlabel\":{\"align\":\"left\"},\"paper_bgcolor\":\"white\",\"plot_bgcolor\":\"#E5ECF6\",\"polar\":{\"bgcolor\":\"#E5ECF6\",\"angularaxis\":{\"gridcolor\":\"white\",\"linecolor\":\"white\",\"ticks\":\"\"},\"radialaxis\":{\"gridcolor\":\"white\",\"linecolor\":\"white\",\"ticks\":\"\"}},\"ternary\":{\"bgcolor\":\"#E5ECF6\",\"aaxis\":{\"gridcolor\":\"white\",\"linecolor\":\"white\",\"ticks\":\"\"},\"baxis\":{\"gridcolor\":\"white\",\"linecolor\":\"white\",\"ticks\":\"\"},\"caxis\":{\"gridcolor\":\"white\",\"linecolor\":\"white\",\"ticks\":\"\"}},\"coloraxis\":{\"colorbar\":{\"outlinewidth\":0,\"ticks\":\"\"}},\"colorscale\":{\"sequential\":[[0.0,\"#0d0887\"],[0.1111111111111111,\"#46039f\"],[0.2222222222222222,\"#7201a8\"],[0.3333333333333333,\"#9c179e\"],[0.4444444444444444,\"#bd3786\"],[0.5555555555555556,\"#d8576b\"],[0.6666666666666666,\"#ed7953\"],[0.7777777777777778,\"#fb9f3a\"],[0.8888888888888888,\"#fdca26\"],[1.0,\"#f0f921\"]],\"sequentialminus\":[[0.0,\"#0d0887\"],[0.1111111111111111,\"#46039f\"],[0.2222222222222222,\"#7201a8\"],[0.3333333333333333,\"#9c179e\"],[0.4444444444444444,\"#bd3786\"],[0.5555555555555556,\"#d8576b\"],[0.6666666666666666,\"#ed7953\"],[0.7777777777777778,\"#fb9f3a\"],[0.8888888888888888,\"#fdca26\"],[1.0,\"#f0f921\"]],\"diverging\":[[0,\"#8e0152\"],[0.1,\"#c51b7d\"],[0.2,\"#de77ae\"],[0.3,\"#f1b6da\"],[0.4,\"#fde0ef\"],[0.5,\"#f7f7f7\"],[0.6,\"#e6f5d0\"],[0.7,\"#b8e186\"],[0.8,\"#7fbc41\"],[0.9,\"#4d9221\"],[1,\"#276419\"]]},\"xaxis\":{\"gridcolor\":\"white\",\"linecolor\":\"white\",\"ticks\":\"\",\"title\":{\"standoff\":15},\"zerolinecolor\":\"white\",\"automargin\":true,\"zerolinewidth\":2},\"yaxis\":{\"gridcolor\":\"white\",\"linecolor\":\"white\",\"ticks\":\"\",\"title\":{\"standoff\":15},\"zerolinecolor\":\"white\",\"automargin\":true,\"zerolinewidth\":2},\"scene\":{\"xaxis\":{\"backgroundcolor\":\"#E5ECF6\",\"gridcolor\":\"white\",\"linecolor\":\"white\",\"showbackground\":true,\"ticks\":\"\",\"zerolinecolor\":\"white\",\"gridwidth\":2},\"yaxis\":{\"backgroundcolor\":\"#E5ECF6\",\"gridcolor\":\"white\",\"linecolor\":\"white\",\"showbackground\":true,\"ticks\":\"\",\"zerolinecolor\":\"white\",\"gridwidth\":2},\"zaxis\":{\"backgroundcolor\":\"#E5ECF6\",\"gridcolor\":\"white\",\"linecolor\":\"white\",\"showbackground\":true,\"ticks\":\"\",\"zerolinecolor\":\"white\",\"gridwidth\":2}},\"shapedefaults\":{\"line\":{\"color\":\"#2a3f5f\"}},\"annotationdefaults\":{\"arrowcolor\":\"#2a3f5f\",\"arrowhead\":0,\"arrowwidth\":1},\"geo\":{\"bgcolor\":\"white\",\"landcolor\":\"#E5ECF6\",\"subunitcolor\":\"white\",\"showland\":true,\"showlakes\":true,\"lakecolor\":\"white\"},\"title\":{\"x\":0.05},\"mapbox\":{\"style\":\"light\"}}}},                        {\"responsive\": true}                    ).then(function(){\n",
              "                            \n",
              "var gd = document.getElementById('72013c8d-f194-4c8d-9700-62368b7951df');\n",
              "var x = new MutationObserver(function (mutations, observer) {{\n",
              "        var display = window.getComputedStyle(gd).display;\n",
              "        if (!display || display === 'none') {{\n",
              "            console.log([gd, 'removed!']);\n",
              "            Plotly.purge(gd);\n",
              "            observer.disconnect();\n",
              "        }}\n",
              "}});\n",
              "\n",
              "// Listen for the removal of the full notebook cells\n",
              "var notebookContainer = gd.closest('#notebook-container');\n",
              "if (notebookContainer) {{\n",
              "    x.observe(notebookContainer, {childList: true});\n",
              "}}\n",
              "\n",
              "// Listen for the clearing of the current output cell\n",
              "var outputEl = gd.closest('.output');\n",
              "if (outputEl) {{\n",
              "    x.observe(outputEl, {childList: true});\n",
              "}}\n",
              "\n",
              "                        })                };                            </script>        </div>\n",
              "</body>\n",
              "</html>"
            ]
          },
          "metadata": {}
        }
      ]
    },
    {
      "cell_type": "markdown",
      "source": [
        "*** Ending EDA ***"
      ],
      "metadata": {
        "id": "bsr-qNN5yS9E"
      }
    },
    {
      "cell_type": "markdown",
      "source": [
        "*** Starting Data Cleaning & Prepairing Data for Processing ***"
      ],
      "metadata": {
        "id": "DCHhm-onyfHy"
      }
    },
    {
      "cell_type": "code",
      "source": [
        "## Data Cleaning ##\n",
        "train = train[['selected_text', 'sentiment']]\n",
        "train.head()"
      ],
      "metadata": {
        "colab": {
          "base_uri": "https://localhost:8080/",
          "height": 206
        },
        "id": "lBESpTMFxwOc",
        "outputId": "83c21dc3-6c92-4f8b-c78f-3fc0bc952bba"
      },
      "execution_count": 26,
      "outputs": [
        {
          "output_type": "execute_result",
          "data": {
            "text/plain": [
              "                         selected_text sentiment\n",
              "0  I`d have responded, if I were going   neutral\n",
              "1                             Sooo SAD  negative\n",
              "2                          bullying me  negative\n",
              "3                       leave me alone  negative\n",
              "4                        Sons of ****,  negative"
            ],
            "text/html": [
              "\n",
              "  <div id=\"df-c2ff0dbf-356c-4c46-b5e8-2bdb4eb16d78\" class=\"colab-df-container\">\n",
              "    <div>\n",
              "<style scoped>\n",
              "    .dataframe tbody tr th:only-of-type {\n",
              "        vertical-align: middle;\n",
              "    }\n",
              "\n",
              "    .dataframe tbody tr th {\n",
              "        vertical-align: top;\n",
              "    }\n",
              "\n",
              "    .dataframe thead th {\n",
              "        text-align: right;\n",
              "    }\n",
              "</style>\n",
              "<table border=\"1\" class=\"dataframe\">\n",
              "  <thead>\n",
              "    <tr style=\"text-align: right;\">\n",
              "      <th></th>\n",
              "      <th>selected_text</th>\n",
              "      <th>sentiment</th>\n",
              "    </tr>\n",
              "  </thead>\n",
              "  <tbody>\n",
              "    <tr>\n",
              "      <th>0</th>\n",
              "      <td>I`d have responded, if I were going</td>\n",
              "      <td>neutral</td>\n",
              "    </tr>\n",
              "    <tr>\n",
              "      <th>1</th>\n",
              "      <td>Sooo SAD</td>\n",
              "      <td>negative</td>\n",
              "    </tr>\n",
              "    <tr>\n",
              "      <th>2</th>\n",
              "      <td>bullying me</td>\n",
              "      <td>negative</td>\n",
              "    </tr>\n",
              "    <tr>\n",
              "      <th>3</th>\n",
              "      <td>leave me alone</td>\n",
              "      <td>negative</td>\n",
              "    </tr>\n",
              "    <tr>\n",
              "      <th>4</th>\n",
              "      <td>Sons of ****,</td>\n",
              "      <td>negative</td>\n",
              "    </tr>\n",
              "  </tbody>\n",
              "</table>\n",
              "</div>\n",
              "    <div class=\"colab-df-buttons\">\n",
              "\n",
              "  <div class=\"colab-df-container\">\n",
              "    <button class=\"colab-df-convert\" onclick=\"convertToInteractive('df-c2ff0dbf-356c-4c46-b5e8-2bdb4eb16d78')\"\n",
              "            title=\"Convert this dataframe to an interactive table.\"\n",
              "            style=\"display:none;\">\n",
              "\n",
              "  <svg xmlns=\"http://www.w3.org/2000/svg\" height=\"24px\" viewBox=\"0 -960 960 960\">\n",
              "    <path d=\"M120-120v-720h720v720H120Zm60-500h600v-160H180v160Zm220 220h160v-160H400v160Zm0 220h160v-160H400v160ZM180-400h160v-160H180v160Zm440 0h160v-160H620v160ZM180-180h160v-160H180v160Zm440 0h160v-160H620v160Z\"/>\n",
              "  </svg>\n",
              "    </button>\n",
              "\n",
              "  <style>\n",
              "    .colab-df-container {\n",
              "      display:flex;\n",
              "      gap: 12px;\n",
              "    }\n",
              "\n",
              "    .colab-df-convert {\n",
              "      background-color: #E8F0FE;\n",
              "      border: none;\n",
              "      border-radius: 50%;\n",
              "      cursor: pointer;\n",
              "      display: none;\n",
              "      fill: #1967D2;\n",
              "      height: 32px;\n",
              "      padding: 0 0 0 0;\n",
              "      width: 32px;\n",
              "    }\n",
              "\n",
              "    .colab-df-convert:hover {\n",
              "      background-color: #E2EBFA;\n",
              "      box-shadow: 0px 1px 2px rgba(60, 64, 67, 0.3), 0px 1px 3px 1px rgba(60, 64, 67, 0.15);\n",
              "      fill: #174EA6;\n",
              "    }\n",
              "\n",
              "    .colab-df-buttons div {\n",
              "      margin-bottom: 4px;\n",
              "    }\n",
              "\n",
              "    [theme=dark] .colab-df-convert {\n",
              "      background-color: #3B4455;\n",
              "      fill: #D2E3FC;\n",
              "    }\n",
              "\n",
              "    [theme=dark] .colab-df-convert:hover {\n",
              "      background-color: #434B5C;\n",
              "      box-shadow: 0px 1px 3px 1px rgba(0, 0, 0, 0.15);\n",
              "      filter: drop-shadow(0px 1px 2px rgba(0, 0, 0, 0.3));\n",
              "      fill: #FFFFFF;\n",
              "    }\n",
              "  </style>\n",
              "\n",
              "    <script>\n",
              "      const buttonEl =\n",
              "        document.querySelector('#df-c2ff0dbf-356c-4c46-b5e8-2bdb4eb16d78 button.colab-df-convert');\n",
              "      buttonEl.style.display =\n",
              "        google.colab.kernel.accessAllowed ? 'block' : 'none';\n",
              "\n",
              "      async function convertToInteractive(key) {\n",
              "        const element = document.querySelector('#df-c2ff0dbf-356c-4c46-b5e8-2bdb4eb16d78');\n",
              "        const dataTable =\n",
              "          await google.colab.kernel.invokeFunction('convertToInteractive',\n",
              "                                                    [key], {});\n",
              "        if (!dataTable) return;\n",
              "\n",
              "        const docLinkHtml = 'Like what you see? Visit the ' +\n",
              "          '<a target=\"_blank\" href=https://colab.research.google.com/notebooks/data_table.ipynb>data table notebook</a>'\n",
              "          + ' to learn more about interactive tables.';\n",
              "        element.innerHTML = '';\n",
              "        dataTable['output_type'] = 'display_data';\n",
              "        await google.colab.output.renderOutput(dataTable, element);\n",
              "        const docLink = document.createElement('div');\n",
              "        docLink.innerHTML = docLinkHtml;\n",
              "        element.appendChild(docLink);\n",
              "      }\n",
              "    </script>\n",
              "  </div>\n",
              "\n",
              "\n",
              "<div id=\"df-f87169f4-1fc0-47c7-9a21-6752c22fa1b1\">\n",
              "  <button class=\"colab-df-quickchart\" onclick=\"quickchart('df-f87169f4-1fc0-47c7-9a21-6752c22fa1b1')\"\n",
              "            title=\"Suggest charts\"\n",
              "            style=\"display:none;\">\n",
              "\n",
              "<svg xmlns=\"http://www.w3.org/2000/svg\" height=\"24px\"viewBox=\"0 0 24 24\"\n",
              "     width=\"24px\">\n",
              "    <g>\n",
              "        <path d=\"M19 3H5c-1.1 0-2 .9-2 2v14c0 1.1.9 2 2 2h14c1.1 0 2-.9 2-2V5c0-1.1-.9-2-2-2zM9 17H7v-7h2v7zm4 0h-2V7h2v10zm4 0h-2v-4h2v4z\"/>\n",
              "    </g>\n",
              "</svg>\n",
              "  </button>\n",
              "\n",
              "<style>\n",
              "  .colab-df-quickchart {\n",
              "      --bg-color: #E8F0FE;\n",
              "      --fill-color: #1967D2;\n",
              "      --hover-bg-color: #E2EBFA;\n",
              "      --hover-fill-color: #174EA6;\n",
              "      --disabled-fill-color: #AAA;\n",
              "      --disabled-bg-color: #DDD;\n",
              "  }\n",
              "\n",
              "  [theme=dark] .colab-df-quickchart {\n",
              "      --bg-color: #3B4455;\n",
              "      --fill-color: #D2E3FC;\n",
              "      --hover-bg-color: #434B5C;\n",
              "      --hover-fill-color: #FFFFFF;\n",
              "      --disabled-bg-color: #3B4455;\n",
              "      --disabled-fill-color: #666;\n",
              "  }\n",
              "\n",
              "  .colab-df-quickchart {\n",
              "    background-color: var(--bg-color);\n",
              "    border: none;\n",
              "    border-radius: 50%;\n",
              "    cursor: pointer;\n",
              "    display: none;\n",
              "    fill: var(--fill-color);\n",
              "    height: 32px;\n",
              "    padding: 0;\n",
              "    width: 32px;\n",
              "  }\n",
              "\n",
              "  .colab-df-quickchart:hover {\n",
              "    background-color: var(--hover-bg-color);\n",
              "    box-shadow: 0 1px 2px rgba(60, 64, 67, 0.3), 0 1px 3px 1px rgba(60, 64, 67, 0.15);\n",
              "    fill: var(--button-hover-fill-color);\n",
              "  }\n",
              "\n",
              "  .colab-df-quickchart-complete:disabled,\n",
              "  .colab-df-quickchart-complete:disabled:hover {\n",
              "    background-color: var(--disabled-bg-color);\n",
              "    fill: var(--disabled-fill-color);\n",
              "    box-shadow: none;\n",
              "  }\n",
              "\n",
              "  .colab-df-spinner {\n",
              "    border: 2px solid var(--fill-color);\n",
              "    border-color: transparent;\n",
              "    border-bottom-color: var(--fill-color);\n",
              "    animation:\n",
              "      spin 1s steps(1) infinite;\n",
              "  }\n",
              "\n",
              "  @keyframes spin {\n",
              "    0% {\n",
              "      border-color: transparent;\n",
              "      border-bottom-color: var(--fill-color);\n",
              "      border-left-color: var(--fill-color);\n",
              "    }\n",
              "    20% {\n",
              "      border-color: transparent;\n",
              "      border-left-color: var(--fill-color);\n",
              "      border-top-color: var(--fill-color);\n",
              "    }\n",
              "    30% {\n",
              "      border-color: transparent;\n",
              "      border-left-color: var(--fill-color);\n",
              "      border-top-color: var(--fill-color);\n",
              "      border-right-color: var(--fill-color);\n",
              "    }\n",
              "    40% {\n",
              "      border-color: transparent;\n",
              "      border-right-color: var(--fill-color);\n",
              "      border-top-color: var(--fill-color);\n",
              "    }\n",
              "    60% {\n",
              "      border-color: transparent;\n",
              "      border-right-color: var(--fill-color);\n",
              "    }\n",
              "    80% {\n",
              "      border-color: transparent;\n",
              "      border-right-color: var(--fill-color);\n",
              "      border-bottom-color: var(--fill-color);\n",
              "    }\n",
              "    90% {\n",
              "      border-color: transparent;\n",
              "      border-bottom-color: var(--fill-color);\n",
              "    }\n",
              "  }\n",
              "</style>\n",
              "\n",
              "  <script>\n",
              "    async function quickchart(key) {\n",
              "      const quickchartButtonEl =\n",
              "        document.querySelector('#' + key + ' button');\n",
              "      quickchartButtonEl.disabled = true;  // To prevent multiple clicks.\n",
              "      quickchartButtonEl.classList.add('colab-df-spinner');\n",
              "      try {\n",
              "        const charts = await google.colab.kernel.invokeFunction(\n",
              "            'suggestCharts', [key], {});\n",
              "      } catch (error) {\n",
              "        console.error('Error during call to suggestCharts:', error);\n",
              "      }\n",
              "      quickchartButtonEl.classList.remove('colab-df-spinner');\n",
              "      quickchartButtonEl.classList.add('colab-df-quickchart-complete');\n",
              "    }\n",
              "    (() => {\n",
              "      let quickchartButtonEl =\n",
              "        document.querySelector('#df-f87169f4-1fc0-47c7-9a21-6752c22fa1b1 button');\n",
              "      quickchartButtonEl.style.display =\n",
              "        google.colab.kernel.accessAllowed ? 'block' : 'none';\n",
              "    })();\n",
              "  </script>\n",
              "</div>\n",
              "\n",
              "    </div>\n",
              "  </div>\n"
            ]
          },
          "metadata": {},
          "execution_count": 26
        }
      ]
    },
    {
      "cell_type": "code",
      "source": [
        "## Checking for null value ##\n",
        "train[\"selected_text\"].isnull().sum()"
      ],
      "metadata": {
        "colab": {
          "base_uri": "https://localhost:8080/"
        },
        "id": "gQbEF4BKy6vw",
        "outputId": "b7969e7e-4346-4135-bcf8-628c43d6f003"
      },
      "execution_count": 27,
      "outputs": [
        {
          "output_type": "execute_result",
          "data": {
            "text/plain": [
              "1"
            ]
          },
          "metadata": {},
          "execution_count": 27
        }
      ]
    },
    {
      "cell_type": "code",
      "source": [
        "## Filling the null value ##\n",
        "train[\"selected_text\"].fillna(\"No content\", inplace=True)"
      ],
      "metadata": {
        "id": "9pEhz0VXzGV1"
      },
      "execution_count": 28,
      "outputs": []
    },
    {
      "cell_type": "code",
      "source": [
        "## clean data method remove unnecessary Items ##\n",
        "def clean_data(data):\n",
        "    # Removing URLs with a regular expression\n",
        "    url_pattern = re.compile(r'https?://\\S+|www\\.\\S+')\n",
        "    data = url_pattern.sub(r'', data)\n",
        "    # Remove Emails\n",
        "    data = re.sub('\\S*@\\S*\\s?', '', data)\n",
        "    # Remove new line characters\n",
        "    data = re.sub('\\s+', ' ', data)\n",
        "    # Remove distracting single quotes\n",
        "    data = re.sub(\"\\'\", \"\", data)\n",
        "    return data"
      ],
      "metadata": {
        "id": "i2C_dxq2zj8S"
      },
      "execution_count": 29,
      "outputs": []
    },
    {
      "cell_type": "code",
      "source": [
        "## Splitting of Data ##\n",
        "temp = []\n",
        "# Splitting pd.Series to list\n",
        "data_to_list = train['selected_text'].values.tolist()\n",
        "for i in range(len(data_to_list)):\n",
        "    temp.append(clean_data(data_to_list[i]))\n",
        "list(temp[:5])"
      ],
      "metadata": {
        "colab": {
          "base_uri": "https://localhost:8080/"
        },
        "id": "xWRA7yhGzoBv",
        "outputId": "c0120f8f-6383-4575-f592-075005131088"
      },
      "execution_count": 30,
      "outputs": [
        {
          "output_type": "execute_result",
          "data": {
            "text/plain": [
              "['I`d have responded, if I were going',\n",
              " 'Sooo SAD',\n",
              " 'bullying me',\n",
              " 'leave me alone',\n",
              " 'Sons of ****,']"
            ]
          },
          "metadata": {},
          "execution_count": 30
        }
      ]
    },
    {
      "cell_type": "code",
      "source": [
        "## sent_to_words converts to sentence to word ##\n",
        "def sent_to_words(sentences):\n",
        "    for sentence in sentences:\n",
        "        yield (gensim.utils.simple_preprocess(str(sentence), deacc=True))  # deacc=True removes punctuations"
      ],
      "metadata": {
        "id": "A-sT6lqb0BBh"
      },
      "execution_count": 31,
      "outputs": []
    },
    {
      "cell_type": "code",
      "source": [
        "data_words = list(sent_to_words(temp))\n",
        "data_words[:10]"
      ],
      "metadata": {
        "colab": {
          "base_uri": "https://localhost:8080/"
        },
        "id": "Sl90a34c0F9t",
        "outputId": "abb93c87-f4af-4f8f-e821-d444f7ddf683"
      },
      "execution_count": 32,
      "outputs": [
        {
          "output_type": "execute_result",
          "data": {
            "text/plain": [
              "[['have', 'responded', 'if', 'were', 'going'],\n",
              " ['sooo', 'sad'],\n",
              " ['bullying', 'me'],\n",
              " ['leave', 'me', 'alone'],\n",
              " ['sons', 'of'],\n",
              " ['some',\n",
              "  'shameless',\n",
              "  'plugging',\n",
              "  'for',\n",
              "  'the',\n",
              "  'best',\n",
              "  'rangers',\n",
              "  'forum',\n",
              "  'on',\n",
              "  'earth'],\n",
              " ['fun'],\n",
              " ['soooo', 'high'],\n",
              " ['both', 'of', 'you'],\n",
              " ['wow', 'just', 'became', 'cooler']]"
            ]
          },
          "metadata": {},
          "execution_count": 32
        }
      ]
    },
    {
      "cell_type": "code",
      "source": [
        "## checking the length of data_words ##\n",
        "len(data_words)"
      ],
      "metadata": {
        "colab": {
          "base_uri": "https://localhost:8080/"
        },
        "id": "5XWC8H510MU2",
        "outputId": "1ceb34a0-5770-4a06-a6b7-0033dc16252f"
      },
      "execution_count": 33,
      "outputs": [
        {
          "output_type": "execute_result",
          "data": {
            "text/plain": [
              "27481"
            ]
          },
          "metadata": {},
          "execution_count": 33
        }
      ]
    },
    {
      "cell_type": "code",
      "source": [
        "## detokenize method convert words to sentence ##\n",
        "def detokenize(text):\n",
        "    return TreebankWordDetokenizer().detokenize(text)"
      ],
      "metadata": {
        "id": "hwXlukl00U8o"
      },
      "execution_count": 34,
      "outputs": []
    },
    {
      "cell_type": "code",
      "source": [
        "## printing converted sentences ##\n",
        "data = []\n",
        "for i in range(len(data_words)):\n",
        "    data.append(detokenize(data_words[i]))\n",
        "data[:5]"
      ],
      "metadata": {
        "colab": {
          "base_uri": "https://localhost:8080/"
        },
        "id": "DupcdOH-0ZwP",
        "outputId": "8166b011-262e-42b7-8c76-6193dfc95f94"
      },
      "execution_count": 35,
      "outputs": [
        {
          "output_type": "execute_result",
          "data": {
            "text/plain": [
              "['have responded if were going',\n",
              " 'sooo sad',\n",
              " 'bullying me',\n",
              " 'leave me alone',\n",
              " 'sons of']"
            ]
          },
          "metadata": {},
          "execution_count": 35
        }
      ]
    },
    {
      "cell_type": "code",
      "source": [
        "## Converting to numpy array ##\n",
        "data = np.array(data)"
      ],
      "metadata": {
        "id": "y9a6oJEf0pYJ"
      },
      "execution_count": 36,
      "outputs": []
    },
    {
      "cell_type": "code",
      "source": [
        "## Label encoding ##\n",
        "labels = np.array(train['sentiment'])\n",
        "y = []\n",
        "for i in range(len(labels)):\n",
        "    if labels[i] == 'neutral':\n",
        "        y.append(0)\n",
        "    if labels[i] == 'negative':\n",
        "        y.append(1)\n",
        "    if labels[i] == 'positive':\n",
        "        y.append(2)\n",
        "y = np.array(y)\n",
        "labels = tf.keras.utils.to_categorical(y, 3, dtype=\"float32\")\n",
        "del y"
      ],
      "metadata": {
        "id": "cw_q535M0wuG"
      },
      "execution_count": 37,
      "outputs": []
    },
    {
      "cell_type": "code",
      "source": [
        "## checking the length of labels ##\n",
        "len(labels)"
      ],
      "metadata": {
        "colab": {
          "base_uri": "https://localhost:8080/"
        },
        "id": "HHaCTJD21APZ",
        "outputId": "6374c187-f55f-48ce-901d-f20f85e3afb9"
      },
      "execution_count": 39,
      "outputs": [
        {
          "output_type": "execute_result",
          "data": {
            "text/plain": [
              "27481"
            ]
          },
          "metadata": {},
          "execution_count": 39
        }
      ]
    },
    {
      "cell_type": "code",
      "source": [
        "## Data sequencing and splitting ##\n",
        "from keras.models import Sequential\n",
        "from keras import layers\n",
        "from keras.preprocessing.text import Tokenizer\n",
        "from keras.utils import pad_sequences\n",
        "from keras.callbacks import ModelCheckpoint\n",
        "\n",
        "max_words = 5000\n",
        "max_len = 200\n",
        "\n",
        "tokenizer = Tokenizer(num_words=max_words)\n",
        "tokenizer.fit_on_texts(data)\n",
        "sequences = tokenizer.texts_to_sequences(data)\n",
        "tweets = pad_sequences(sequences, maxlen=max_len)\n",
        "tweets"
      ],
      "metadata": {
        "colab": {
          "base_uri": "https://localhost:8080/"
        },
        "id": "QN1Vng5R1IE1",
        "outputId": "d72a9629-fac7-4b08-9d95-f1852ff589cf"
      },
      "execution_count": 40,
      "outputs": [
        {
          "output_type": "execute_result",
          "data": {
            "text/plain": [
              "array([[   0,    0,    0, ...,   68,  146,   41],\n",
              "       [   0,    0,    0, ...,    0,  397,   65],\n",
              "       [   0,    0,    0, ...,    0,    0,   11],\n",
              "       ...,\n",
              "       [   0,    0,    0, ...,  372,   10,    3],\n",
              "       [   0,    0,    0, ...,   24,  542,    4],\n",
              "       [   0,    0,    0, ..., 2424,  199,  657]], dtype=int32)"
            ]
          },
          "metadata": {},
          "execution_count": 40
        }
      ]
    },
    {
      "cell_type": "code",
      "source": [
        "## printing the labels\n",
        "labels"
      ],
      "metadata": {
        "colab": {
          "base_uri": "https://localhost:8080/"
        },
        "id": "EgnYnCr51WCY",
        "outputId": "e9d4e794-66fd-45f2-d9d7-dbdb1224a810"
      },
      "execution_count": 41,
      "outputs": [
        {
          "output_type": "execute_result",
          "data": {
            "text/plain": [
              "array([[1., 0., 0.],\n",
              "       [0., 1., 0.],\n",
              "       [0., 1., 0.],\n",
              "       ...,\n",
              "       [0., 0., 1.],\n",
              "       [0., 0., 1.],\n",
              "       [1., 0., 0.]], dtype=float32)"
            ]
          },
          "metadata": {},
          "execution_count": 41
        }
      ]
    },
    {
      "cell_type": "code",
      "source": [
        "## Splitting the data ##\n",
        "X_train, X_test, y_train, y_test = train_test_split(tweets, labels, random_state=0)\n",
        "print(len(X_train), len(X_test), len(y_train), len(y_test))"
      ],
      "metadata": {
        "colab": {
          "base_uri": "https://localhost:8080/"
        },
        "id": "RqgYZbHc1cEK",
        "outputId": "a25fbff5-b1f8-4b7a-c268-700217dbbec0"
      },
      "execution_count": 42,
      "outputs": [
        {
          "output_type": "stream",
          "name": "stdout",
          "text": [
            "20610 6871 20610 6871\n"
          ]
        }
      ]
    },
    {
      "cell_type": "markdown",
      "source": [
        "*** Ending Data Cleaning & Prepairation for the Processing ***"
      ],
      "metadata": {
        "id": "eD_fRLs_ykVW"
      }
    },
    {
      "cell_type": "markdown",
      "source": [
        "*** Applying Deep Learning Model (Start) ***"
      ],
      "metadata": {
        "id": "lqQhY9sn2FP3"
      }
    },
    {
      "cell_type": "code",
      "source": [
        "## no of epochs ##\n",
        "no_epoch = 70"
      ],
      "metadata": {
        "id": "ErkTgRSR2he3"
      },
      "execution_count": 43,
      "outputs": []
    },
    {
      "cell_type": "markdown",
      "source": [
        "***## Model building ##***"
      ],
      "metadata": {
        "id": "8-53YGKW2nkt"
      }
    },
    {
      "cell_type": "markdown",
      "source": [
        "***## Single LSTM layer model (Start)***"
      ],
      "metadata": {
        "id": "gFH14-mm2tFp"
      }
    },
    {
      "cell_type": "code",
      "source": [
        "model1 = Sequential()\n",
        "model1.add(layers.Embedding(max_words, 20))\n",
        "model1.add(layers.LSTM(15, dropout=0.5))\n",
        "model1.add(layers.Dense(3, activation='softmax'))\n",
        "\n",
        "model1.compile(optimizer='rmsprop', loss='categorical_crossentropy', metrics=['accuracy'])\n",
        "# Implementing model checkpoins to save the best metric and do not lose it on training.\n",
        "checkpoint1 = ModelCheckpoint(\"best_model1.hdf5\", monitor='val_accuracy', verbose=1, save_best_only=True,\n",
        "                              save_weights_only=False, mode='auto', save_freq='epoch')\n",
        "history = model1.fit(X_train, y_train, epochs=no_epoch, validation_data=(X_test, y_test), callbacks=[checkpoint1])\n",
        "history"
      ],
      "metadata": {
        "colab": {
          "base_uri": "https://localhost:8080/"
        },
        "id": "LMEF3Kof20Tl",
        "outputId": "140fafbe-6471-42f4-a5c7-958980263b69"
      },
      "execution_count": null,
      "outputs": [
        {
          "output_type": "stream",
          "name": "stdout",
          "text": [
            "Epoch 1/70\n",
            "645/645 [==============================] - ETA: 0s - loss: 0.8303 - accuracy: 0.6251\n",
            "Epoch 1: val_accuracy improved from -inf to 0.70004, saving model to best_model1.hdf5\n",
            "645/645 [==============================] - 60s 88ms/step - loss: 0.8303 - accuracy: 0.6251 - val_loss: 0.7149 - val_accuracy: 0.7000\n",
            "Epoch 2/70\n",
            "645/645 [==============================] - ETA: 0s - loss: 0.6264 - accuracy: 0.7542\n",
            "Epoch 2: val_accuracy improved from 0.70004 to 0.77732, saving model to best_model1.hdf5\n",
            "645/645 [==============================] - 57s 88ms/step - loss: 0.6264 - accuracy: 0.7542 - val_loss: 0.5607 - val_accuracy: 0.7773\n",
            "Epoch 3/70\n",
            "645/645 [==============================] - ETA: 0s - loss: 0.5255 - accuracy: 0.7906\n",
            "Epoch 3: val_accuracy improved from 0.77732 to 0.78999, saving model to best_model1.hdf5\n",
            "645/645 [==============================] - 56s 86ms/step - loss: 0.5255 - accuracy: 0.7906 - val_loss: 0.5198 - val_accuracy: 0.7900\n",
            "Epoch 4/70\n",
            "645/645 [==============================] - ETA: 0s - loss: 0.4817 - accuracy: 0.8149\n",
            "Epoch 4: val_accuracy improved from 0.78999 to 0.81167, saving model to best_model1.hdf5\n",
            "645/645 [==============================] - 57s 88ms/step - loss: 0.4817 - accuracy: 0.8149 - val_loss: 0.4827 - val_accuracy: 0.8117\n",
            "Epoch 5/70\n",
            "645/645 [==============================] - ETA: 0s - loss: 0.4556 - accuracy: 0.8263\n",
            "Epoch 5: val_accuracy improved from 0.81167 to 0.81633, saving model to best_model1.hdf5\n",
            "645/645 [==============================] - 54s 84ms/step - loss: 0.4556 - accuracy: 0.8263 - val_loss: 0.4718 - val_accuracy: 0.8163\n",
            "Epoch 6/70\n",
            "645/645 [==============================] - ETA: 0s - loss: 0.4424 - accuracy: 0.8331\n",
            "Epoch 6: val_accuracy improved from 0.81633 to 0.82201, saving model to best_model1.hdf5\n",
            "645/645 [==============================] - 57s 89ms/step - loss: 0.4424 - accuracy: 0.8331 - val_loss: 0.4609 - val_accuracy: 0.8220\n",
            "Epoch 7/70\n",
            "645/645 [==============================] - ETA: 0s - loss: 0.4286 - accuracy: 0.8394\n",
            "Epoch 7: val_accuracy improved from 0.82201 to 0.82332, saving model to best_model1.hdf5\n",
            "645/645 [==============================] - 57s 89ms/step - loss: 0.4286 - accuracy: 0.8394 - val_loss: 0.4581 - val_accuracy: 0.8233\n",
            "Epoch 8/70\n",
            "645/645 [==============================] - ETA: 0s - loss: 0.4181 - accuracy: 0.8436\n",
            "Epoch 8: val_accuracy improved from 0.82332 to 0.82404, saving model to best_model1.hdf5\n",
            "645/645 [==============================] - 56s 87ms/step - loss: 0.4181 - accuracy: 0.8436 - val_loss: 0.4558 - val_accuracy: 0.8240\n",
            "Epoch 9/70\n",
            "645/645 [==============================] - ETA: 0s - loss: 0.4099 - accuracy: 0.8438\n",
            "Epoch 9: val_accuracy did not improve from 0.82404\n",
            "645/645 [==============================] - 55s 85ms/step - loss: 0.4099 - accuracy: 0.8438 - val_loss: 0.4598 - val_accuracy: 0.8165\n",
            "Epoch 10/70\n",
            "645/645 [==============================] - ETA: 0s - loss: 0.4003 - accuracy: 0.8519\n",
            "Epoch 10: val_accuracy did not improve from 0.82404\n",
            "645/645 [==============================] - 56s 86ms/step - loss: 0.4003 - accuracy: 0.8519 - val_loss: 0.4494 - val_accuracy: 0.8235\n",
            "Epoch 11/70\n",
            "645/645 [==============================] - ETA: 0s - loss: 0.3963 - accuracy: 0.8495\n",
            "Epoch 11: val_accuracy improved from 0.82404 to 0.82899, saving model to best_model1.hdf5\n",
            "645/645 [==============================] - 56s 87ms/step - loss: 0.3963 - accuracy: 0.8495 - val_loss: 0.4441 - val_accuracy: 0.8290\n",
            "Epoch 12/70\n",
            "645/645 [==============================] - ETA: 0s - loss: 0.3897 - accuracy: 0.8518\n",
            "Epoch 12: val_accuracy did not improve from 0.82899\n",
            "645/645 [==============================] - 57s 88ms/step - loss: 0.3897 - accuracy: 0.8518 - val_loss: 0.4459 - val_accuracy: 0.8288\n",
            "Epoch 13/70\n",
            "645/645 [==============================] - ETA: 0s - loss: 0.3820 - accuracy: 0.8586\n",
            "Epoch 13: val_accuracy did not improve from 0.82899\n",
            "645/645 [==============================] - 58s 90ms/step - loss: 0.3820 - accuracy: 0.8586 - val_loss: 0.4547 - val_accuracy: 0.8232\n",
            "Epoch 14/70\n",
            "645/645 [==============================] - ETA: 0s - loss: 0.3796 - accuracy: 0.8590\n",
            "Epoch 14: val_accuracy did not improve from 0.82899\n",
            "645/645 [==============================] - 56s 88ms/step - loss: 0.3796 - accuracy: 0.8590 - val_loss: 0.4448 - val_accuracy: 0.8284\n",
            "Epoch 15/70\n",
            "645/645 [==============================] - ETA: 0s - loss: 0.3712 - accuracy: 0.8612\n",
            "Epoch 15: val_accuracy improved from 0.82899 to 0.83147, saving model to best_model1.hdf5\n",
            "645/645 [==============================] - 57s 89ms/step - loss: 0.3712 - accuracy: 0.8612 - val_loss: 0.4407 - val_accuracy: 0.8315\n",
            "Epoch 16/70\n",
            "645/645 [==============================] - ETA: 0s - loss: 0.3687 - accuracy: 0.8646\n",
            "Epoch 16: val_accuracy improved from 0.83147 to 0.83263, saving model to best_model1.hdf5\n",
            "645/645 [==============================] - 56s 87ms/step - loss: 0.3687 - accuracy: 0.8646 - val_loss: 0.4409 - val_accuracy: 0.8326\n",
            "Epoch 17/70\n",
            "645/645 [==============================] - ETA: 0s - loss: 0.3629 - accuracy: 0.8641\n",
            "Epoch 17: val_accuracy did not improve from 0.83263\n",
            "645/645 [==============================] - 55s 85ms/step - loss: 0.3629 - accuracy: 0.8641 - val_loss: 0.4389 - val_accuracy: 0.8306\n",
            "Epoch 18/70\n",
            "645/645 [==============================] - ETA: 0s - loss: 0.3600 - accuracy: 0.8677\n",
            "Epoch 18: val_accuracy improved from 0.83263 to 0.83292, saving model to best_model1.hdf5\n",
            "645/645 [==============================] - 55s 85ms/step - loss: 0.3600 - accuracy: 0.8677 - val_loss: 0.4350 - val_accuracy: 0.8329\n",
            "Epoch 19/70\n",
            "645/645 [==============================] - ETA: 0s - loss: 0.3606 - accuracy: 0.8669\n",
            "Epoch 19: val_accuracy did not improve from 0.83292\n",
            "645/645 [==============================] - 57s 89ms/step - loss: 0.3606 - accuracy: 0.8669 - val_loss: 0.4353 - val_accuracy: 0.8313\n",
            "Epoch 20/70\n",
            "645/645 [==============================] - ETA: 0s - loss: 0.3567 - accuracy: 0.8669\n",
            "Epoch 20: val_accuracy did not improve from 0.83292\n",
            "645/645 [==============================] - 57s 88ms/step - loss: 0.3567 - accuracy: 0.8669 - val_loss: 0.4356 - val_accuracy: 0.8323\n",
            "Epoch 21/70\n",
            "645/645 [==============================] - ETA: 0s - loss: 0.3525 - accuracy: 0.8682\n",
            "Epoch 21: val_accuracy improved from 0.83292 to 0.83394, saving model to best_model1.hdf5\n",
            "645/645 [==============================] - 58s 89ms/step - loss: 0.3525 - accuracy: 0.8682 - val_loss: 0.4324 - val_accuracy: 0.8339\n",
            "Epoch 22/70\n",
            "645/645 [==============================] - ETA: 0s - loss: 0.3503 - accuracy: 0.8721\n",
            "Epoch 22: val_accuracy improved from 0.83394 to 0.83627, saving model to best_model1.hdf5\n",
            "645/645 [==============================] - 55s 86ms/step - loss: 0.3503 - accuracy: 0.8721 - val_loss: 0.4336 - val_accuracy: 0.8363\n",
            "Epoch 23/70\n",
            "645/645 [==============================] - ETA: 0s - loss: 0.3474 - accuracy: 0.8711\n",
            "Epoch 23: val_accuracy did not improve from 0.83627\n",
            "645/645 [==============================] - 62s 96ms/step - loss: 0.3474 - accuracy: 0.8711 - val_loss: 0.4326 - val_accuracy: 0.8332\n",
            "Epoch 24/70\n",
            "645/645 [==============================] - ETA: 0s - loss: 0.3442 - accuracy: 0.8738\n",
            "Epoch 24: val_accuracy improved from 0.83627 to 0.83714, saving model to best_model1.hdf5\n",
            "645/645 [==============================] - 71s 109ms/step - loss: 0.3442 - accuracy: 0.8738 - val_loss: 0.4356 - val_accuracy: 0.8371\n",
            "Epoch 25/70\n",
            "645/645 [==============================] - ETA: 0s - loss: 0.3466 - accuracy: 0.8718\n",
            "Epoch 25: val_accuracy improved from 0.83714 to 0.83743, saving model to best_model1.hdf5\n",
            "645/645 [==============================] - 63s 98ms/step - loss: 0.3466 - accuracy: 0.8718 - val_loss: 0.4337 - val_accuracy: 0.8374\n",
            "Epoch 26/70\n",
            "645/645 [==============================] - ETA: 0s - loss: 0.3431 - accuracy: 0.8738\n",
            "Epoch 26: val_accuracy did not improve from 0.83743\n",
            "645/645 [==============================] - 66s 102ms/step - loss: 0.3431 - accuracy: 0.8738 - val_loss: 0.4330 - val_accuracy: 0.8370\n",
            "Epoch 27/70\n",
            "645/645 [==============================] - ETA: 0s - loss: 0.3382 - accuracy: 0.8727\n",
            "Epoch 27: val_accuracy improved from 0.83743 to 0.83947, saving model to best_model1.hdf5\n",
            "645/645 [==============================] - 66s 103ms/step - loss: 0.3382 - accuracy: 0.8727 - val_loss: 0.4362 - val_accuracy: 0.8395\n",
            "Epoch 28/70\n",
            "645/645 [==============================] - ETA: 0s - loss: 0.3382 - accuracy: 0.8749\n",
            "Epoch 28: val_accuracy did not improve from 0.83947\n",
            "645/645 [==============================] - 71s 111ms/step - loss: 0.3382 - accuracy: 0.8749 - val_loss: 0.4329 - val_accuracy: 0.8380\n",
            "Epoch 29/70\n",
            "645/645 [==============================] - ETA: 0s - loss: 0.3392 - accuracy: 0.8755\n",
            "Epoch 29: val_accuracy did not improve from 0.83947\n",
            "645/645 [==============================] - 73s 113ms/step - loss: 0.3392 - accuracy: 0.8755 - val_loss: 0.4489 - val_accuracy: 0.8376\n",
            "Epoch 30/70\n",
            "645/645 [==============================] - ETA: 0s - loss: 0.3338 - accuracy: 0.8757\n",
            "Epoch 30: val_accuracy did not improve from 0.83947\n",
            "645/645 [==============================] - 70s 109ms/step - loss: 0.3338 - accuracy: 0.8757 - val_loss: 0.4320 - val_accuracy: 0.8373\n",
            "Epoch 31/70\n",
            "645/645 [==============================] - ETA: 0s - loss: 0.3357 - accuracy: 0.8775\n",
            "Epoch 31: val_accuracy did not improve from 0.83947\n",
            "645/645 [==============================] - 64s 99ms/step - loss: 0.3357 - accuracy: 0.8775 - val_loss: 0.4368 - val_accuracy: 0.8360\n",
            "Epoch 32/70\n",
            "645/645 [==============================] - ETA: 0s - loss: 0.3323 - accuracy: 0.8768\n",
            "Epoch 32: val_accuracy did not improve from 0.83947\n",
            "645/645 [==============================] - 56s 88ms/step - loss: 0.3323 - accuracy: 0.8768 - val_loss: 0.4398 - val_accuracy: 0.8347\n",
            "Epoch 33/70\n",
            "645/645 [==============================] - ETA: 0s - loss: 0.3331 - accuracy: 0.8781\n",
            "Epoch 33: val_accuracy did not improve from 0.83947\n",
            "645/645 [==============================] - 58s 89ms/step - loss: 0.3331 - accuracy: 0.8781 - val_loss: 0.4362 - val_accuracy: 0.8374\n",
            "Epoch 34/70\n",
            "645/645 [==============================] - ETA: 0s - loss: 0.3269 - accuracy: 0.8786\n",
            "Epoch 34: val_accuracy did not improve from 0.83947\n",
            "645/645 [==============================] - 57s 89ms/step - loss: 0.3269 - accuracy: 0.8786 - val_loss: 0.4293 - val_accuracy: 0.8367\n",
            "Epoch 35/70\n",
            "645/645 [==============================] - ETA: 0s - loss: 0.3272 - accuracy: 0.8801\n",
            "Epoch 35: val_accuracy did not improve from 0.83947\n",
            "645/645 [==============================] - 57s 88ms/step - loss: 0.3272 - accuracy: 0.8801 - val_loss: 0.4361 - val_accuracy: 0.8366\n",
            "Epoch 36/70\n",
            "645/645 [==============================] - ETA: 0s - loss: 0.3275 - accuracy: 0.8802\n",
            "Epoch 36: val_accuracy did not improve from 0.83947\n",
            "645/645 [==============================] - 57s 88ms/step - loss: 0.3275 - accuracy: 0.8802 - val_loss: 0.4303 - val_accuracy: 0.8392\n",
            "Epoch 37/70\n",
            "645/645 [==============================] - ETA: 0s - loss: 0.3276 - accuracy: 0.8794\n",
            "Epoch 37: val_accuracy did not improve from 0.83947\n",
            "645/645 [==============================] - 55s 85ms/step - loss: 0.3276 - accuracy: 0.8794 - val_loss: 0.4250 - val_accuracy: 0.8392\n",
            "Epoch 38/70\n",
            "645/645 [==============================] - ETA: 0s - loss: 0.3260 - accuracy: 0.8805\n",
            "Epoch 38: val_accuracy did not improve from 0.83947\n",
            "645/645 [==============================] - 57s 88ms/step - loss: 0.3260 - accuracy: 0.8805 - val_loss: 0.4331 - val_accuracy: 0.8393\n",
            "Epoch 39/70\n",
            "645/645 [==============================] - ETA: 0s - loss: 0.3253 - accuracy: 0.8794\n",
            "Epoch 39: val_accuracy did not improve from 0.83947\n",
            "645/645 [==============================] - 57s 89ms/step - loss: 0.3253 - accuracy: 0.8794 - val_loss: 0.4286 - val_accuracy: 0.8366\n",
            "Epoch 40/70\n",
            "645/645 [==============================] - ETA: 0s - loss: 0.3209 - accuracy: 0.8821\n",
            "Epoch 40: val_accuracy improved from 0.83947 to 0.84180, saving model to best_model1.hdf5\n",
            "645/645 [==============================] - 56s 87ms/step - loss: 0.3209 - accuracy: 0.8821 - val_loss: 0.4237 - val_accuracy: 0.8418\n",
            "Epoch 41/70\n",
            "645/645 [==============================] - ETA: 0s - loss: 0.3246 - accuracy: 0.8797\n",
            "Epoch 41: val_accuracy did not improve from 0.84180\n",
            "645/645 [==============================] - 57s 88ms/step - loss: 0.3246 - accuracy: 0.8797 - val_loss: 0.4204 - val_accuracy: 0.8398\n",
            "Epoch 42/70\n",
            "645/645 [==============================] - ETA: 0s - loss: 0.3163 - accuracy: 0.8853\n",
            "Epoch 42: val_accuracy improved from 0.84180 to 0.84194, saving model to best_model1.hdf5\n",
            "645/645 [==============================] - 57s 88ms/step - loss: 0.3163 - accuracy: 0.8853 - val_loss: 0.4271 - val_accuracy: 0.8419\n",
            "Epoch 43/70\n",
            "645/645 [==============================] - ETA: 0s - loss: 0.3183 - accuracy: 0.8842\n",
            "Epoch 43: val_accuracy did not improve from 0.84194\n",
            "645/645 [==============================] - 61s 95ms/step - loss: 0.3183 - accuracy: 0.8842 - val_loss: 0.4222 - val_accuracy: 0.8402\n",
            "Epoch 44/70\n",
            "645/645 [==============================] - ETA: 0s - loss: 0.3154 - accuracy: 0.8861\n",
            "Epoch 44: val_accuracy did not improve from 0.84194\n",
            "645/645 [==============================] - 56s 87ms/step - loss: 0.3154 - accuracy: 0.8861 - val_loss: 0.4406 - val_accuracy: 0.8417\n",
            "Epoch 45/70\n",
            "645/645 [==============================] - ETA: 0s - loss: 0.3152 - accuracy: 0.8838\n",
            "Epoch 45: val_accuracy did not improve from 0.84194\n",
            "645/645 [==============================] - 54s 84ms/step - loss: 0.3152 - accuracy: 0.8838 - val_loss: 0.4369 - val_accuracy: 0.8398\n",
            "Epoch 46/70\n",
            "645/645 [==============================] - ETA: 0s - loss: 0.3148 - accuracy: 0.8852\n",
            "Epoch 46: val_accuracy did not improve from 0.84194\n",
            "645/645 [==============================] - 57s 88ms/step - loss: 0.3148 - accuracy: 0.8852 - val_loss: 0.4220 - val_accuracy: 0.8395\n",
            "Epoch 47/70\n",
            "645/645 [==============================] - ETA: 0s - loss: 0.3127 - accuracy: 0.8863\n",
            "Epoch 47: val_accuracy did not improve from 0.84194\n",
            "645/645 [==============================] - 53s 82ms/step - loss: 0.3127 - accuracy: 0.8863 - val_loss: 0.4430 - val_accuracy: 0.8406\n",
            "Epoch 48/70\n",
            "645/645 [==============================] - ETA: 0s - loss: 0.3113 - accuracy: 0.8859\n",
            "Epoch 48: val_accuracy improved from 0.84194 to 0.84267, saving model to best_model1.hdf5\n",
            "645/645 [==============================] - 56s 87ms/step - loss: 0.3113 - accuracy: 0.8859 - val_loss: 0.4391 - val_accuracy: 0.8427\n",
            "Epoch 49/70\n",
            "645/645 [==============================] - ETA: 0s - loss: 0.3085 - accuracy: 0.8873\n",
            "Epoch 49: val_accuracy did not improve from 0.84267\n",
            "645/645 [==============================] - 58s 89ms/step - loss: 0.3085 - accuracy: 0.8873 - val_loss: 0.4314 - val_accuracy: 0.8405\n",
            "Epoch 50/70\n",
            "645/645 [==============================] - ETA: 0s - loss: 0.3055 - accuracy: 0.8884\n",
            "Epoch 50: val_accuracy did not improve from 0.84267\n",
            "645/645 [==============================] - 62s 96ms/step - loss: 0.3055 - accuracy: 0.8884 - val_loss: 0.4294 - val_accuracy: 0.8427\n",
            "Epoch 51/70\n",
            "645/645 [==============================] - ETA: 0s - loss: 0.3049 - accuracy: 0.8902\n",
            "Epoch 51: val_accuracy did not improve from 0.84267\n",
            "645/645 [==============================] - 57s 88ms/step - loss: 0.3049 - accuracy: 0.8902 - val_loss: 0.4399 - val_accuracy: 0.8424\n",
            "Epoch 52/70\n",
            "645/645 [==============================] - ETA: 0s - loss: 0.3071 - accuracy: 0.8869\n",
            "Epoch 52: val_accuracy did not improve from 0.84267\n",
            "645/645 [==============================] - 54s 84ms/step - loss: 0.3071 - accuracy: 0.8869 - val_loss: 0.4246 - val_accuracy: 0.8411\n",
            "Epoch 53/70\n",
            "551/645 [========================>.....] - ETA: 7s - loss: 0.3032 - accuracy: 0.8907"
          ]
        }
      ]
    },
    {
      "cell_type": "markdown",
      "source": [
        "***## Single LSTM layer model (End)***"
      ],
      "metadata": {
        "id": "N--aZf362vWr"
      }
    },
    {
      "cell_type": "markdown",
      "source": [
        "***## Bidirectional LTSM model (Start)***"
      ],
      "metadata": {
        "id": "JrT0K_Rj73T-"
      }
    },
    {
      "cell_type": "code",
      "source": [
        "model2 = Sequential()\n",
        "model2.add(layers.Embedding(max_words, 40, input_length=max_len))\n",
        "model2.add(layers.Bidirectional(layers.LSTM(20, dropout=0.6)))\n",
        "model2.add(layers.Dense(3, activation='softmax'))\n",
        "model2.compile(optimizer='rmsprop', loss='categorical_crossentropy', metrics=['accuracy'])\n",
        "# Implementing model checkpoins to save the best metric and do not lose it on training.\n",
        "checkpoint2 = ModelCheckpoint(\"best_model2.hdf5\", monitor='val_accuracy', verbose=1, save_best_only=True,\n",
        "                              save_weights_only=False, mode='auto', save_freq='epoch')\n",
        "history = model2.fit(X_train, y_train, epochs=no_epoch, validation_data=(X_test, y_test), callbacks=[checkpoint2])\n",
        "history"
      ],
      "metadata": {
        "id": "Jg0jkimB2lgd"
      },
      "execution_count": null,
      "outputs": []
    },
    {
      "cell_type": "markdown",
      "source": [
        "***## Bidirectional LTSM model (End)***"
      ],
      "metadata": {
        "id": "KkPGiJVE76Qq"
      }
    },
    {
      "cell_type": "markdown",
      "source": [
        "***## 1D Convolutional model (Start)***"
      ],
      "metadata": {
        "id": "V7vwFP6w8Ity"
      }
    },
    {
      "cell_type": "code",
      "source": [
        "from keras import regularizers\n",
        "\n",
        "model3 = Sequential()\n",
        "model3.add(layers.Embedding(max_words, 40, input_length=max_len))\n",
        "model3.add(layers.Conv1D(20, 6, activation='relu', kernel_regularizer=regularizers.l1_l2(l1=2e-3, l2=2e-3),\n",
        "                         bias_regularizer=regularizers.l2(2e-3)))\n",
        "model3.add(layers.MaxPooling1D(5))\n",
        "model3.add(layers.Conv1D(20, 6, activation='relu', kernel_regularizer=regularizers.l1_l2(l1=2e-3, l2=2e-3),\n",
        "                         bias_regularizer=regularizers.l2(2e-3)))\n",
        "model3.add(layers.GlobalMaxPooling1D())\n",
        "model3.add(layers.Dense(3, activation='softmax'))\n",
        "model3.compile(optimizer='rmsprop', loss='categorical_crossentropy', metrics=['accuracy'])\n",
        "checkpoint3 = ModelCheckpoint(\"best_model3.hdf5\", monitor='val_accuracy', verbose=1, save_best_only=True,\n",
        "                              save_weights_only=False, mode='auto', save_freq='epoch')\n",
        "history = model3.fit(X_train, y_train, epochs=no_epoch, validation_data=(X_test, y_test), callbacks=[checkpoint3])\n",
        "history"
      ],
      "metadata": {
        "id": "Jx6jMnnI8WKo"
      },
      "execution_count": null,
      "outputs": []
    },
    {
      "cell_type": "markdown",
      "source": [
        "***## 1D Convolutional model (End)***"
      ],
      "metadata": {
        "id": "SwbleLwi8Snu"
      }
    },
    {
      "cell_type": "markdown",
      "source": [
        "*** Applying Deep Learning Model (End) ***"
      ],
      "metadata": {
        "id": "dkcotmVA2aKd"
      }
    },
    {
      "cell_type": "markdown",
      "source": [
        "***## Best model validation ##***"
      ],
      "metadata": {
        "id": "eloo_-2v8nHp"
      }
    },
    {
      "cell_type": "code",
      "source": [
        "best_model = keras.models.load_model(\"best_model2.hdf5\")\n",
        "test_loss, test_acc = best_model.evaluate(X_test, y_test, verbose=2)\n",
        "print('Model accuracy: ', test_acc)\n",
        "predictions = best_model.predict(X_test)\n",
        "predictions"
      ],
      "metadata": {
        "id": "tDJqrNcG2Ie_"
      },
      "execution_count": null,
      "outputs": []
    },
    {
      "cell_type": "markdown",
      "source": [
        "***## Confusion matrix ##***"
      ],
      "metadata": {
        "id": "pNw-8Vhh81-R"
      }
    },
    {
      "cell_type": "code",
      "source": [
        "from sklearn.metrics import confusion_matrix\n",
        "\n",
        "matrix = confusion_matrix(y_test.argmax(axis=1), np.around(predictions, decimals=0).argmax(axis=1))\n",
        "import seaborn as sns\n",
        "\n",
        "conf_matrix = pd.DataFrame(matrix, index=['Neutral', 'Negative', 'Positive'],\n",
        "                           columns=['Neutral', 'Negative', 'Positive'])\n",
        "# Normalizing\n",
        "conf_matrix = conf_matrix.to_numpy() / conf_matrix.to_numpy().sum(axis=1)[:, np.newaxis]\n",
        "plt.figure(figsize=(15, 15))\n",
        "sns.heatmap(conf_matrix, annot=True, annot_kws={\"size\": 15})\n",
        "plt.show()"
      ],
      "metadata": {
        "id": "DaMMGN2u9HrU"
      },
      "execution_count": null,
      "outputs": []
    },
    {
      "cell_type": "markdown",
      "source": [
        "***## Performance on Some Testing Text***"
      ],
      "metadata": {
        "id": "eQC4JIh69K0C"
      }
    },
    {
      "cell_type": "code",
      "source": [
        "sentiment = ['Neutral', 'Negative', 'Positive']\n",
        "\n",
        "sequence = tokenizer.texts_to_sequences(['this experience has been the worst , want my money back'])\n",
        "test = pad_sequences(sequence, maxlen=max_len)\n",
        "print(sentiment[np.around(best_model.predict(test), decimals=0).argmax(axis=1)[0]])\n",
        "print('\\n')\n",
        "\n",
        "sequence = tokenizer.texts_to_sequences(['this data science article is the best ever'])\n",
        "test = pad_sequences(sequence, maxlen=max_len)\n",
        "print(sentiment[np.around(best_model.predict(test), decimals=0).argmax(axis=1)[0]])\n",
        "print('\\n')\n",
        "\n",
        "sequence = tokenizer.texts_to_sequences(['i hate youtube ads, they are annoying'])\n",
        "test = pad_sequences(sequence, maxlen=max_len)\n",
        "print(sentiment[np.around(best_model.predict(test), decimals=0).argmax(axis=1)[0]])\n",
        "print('\\n')\n",
        "\n",
        "sequence = tokenizer.texts_to_sequences(['i really loved how the technician helped me with the issue that i had'])\n",
        "test = pad_sequences(sequence, maxlen=max_len)\n",
        "print(sentiment[np.around(best_model.predict(test), decimals=0).argmax(axis=1)[0]])"
      ],
      "metadata": {
        "id": "RHpJUcPE9Q32"
      },
      "execution_count": null,
      "outputs": []
    },
    {
      "cell_type": "markdown",
      "source": [
        "*** 😃 END 😃 ***\n",
        "\n",
        "---\n",
        "\n",
        ":"
      ],
      "metadata": {
        "id": "o_DLgi979VNH"
      }
    }
  ]
}